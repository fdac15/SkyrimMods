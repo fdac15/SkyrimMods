{
 "cells": [
  {
   "cell_type": "code",
   "execution_count": null,
   "metadata": {
    "collapsed": false
   },
   "outputs": [],
   "source": [
    "#Writes the links to all of the mods to a file called \"links.txt\"\n",
    "\n",
    "import requests, json, sys, time, re\n",
    "from bs4 import BeautifulSoup\n",
    "\n",
    "low = 1\n",
    "high = 888\n",
    "URL = \"http://steamcommunity.com/workshop/browse/?appid=72850&browsesort=trend&section=readytouseitems&days=90&actualsort=trend&p=\"\n",
    "f = open(\"links.txt\", 'w')\n",
    "\n",
    "i=low\n",
    "while i < high: \n",
    "    r = requests.get(URL+str(i))\n",
    "    t = r.text\n",
    "    soup = BeautifulSoup(t, 'html.parser')\n",
    "\n",
    "    for newp in soup.find_all('a'):\n",
    "        if('workshopItem'in str(newp.parent.attrs) and \"Author\" not in str(newp.parent.attrs)):\n",
    "            #print(newp.get(\"href\"))\n",
    "            f.write(newp.get(\"href\")+\"\\n\")\n",
    "    i +=1\n",
    "    \n",
    "f.close()"
   ]
  },
  {
   "cell_type": "code",
   "execution_count": null,
   "metadata": {
    "collapsed": true
   },
   "outputs": [],
   "source": []
  }
 ],
 "metadata": {
  "kernelspec": {
   "display_name": "Python 3",
   "language": "python",
   "name": "python3"
  },
  "language_info": {
   "codemirror_mode": {
    "name": "ipython",
    "version": 3
   },
   "file_extension": ".py",
   "mimetype": "text/x-python",
   "name": "python",
   "nbconvert_exporter": "python",
   "pygments_lexer": "ipython3",
   "version": "3.4.0"
  }
 },
 "nbformat": 4,
 "nbformat_minor": 0
}
