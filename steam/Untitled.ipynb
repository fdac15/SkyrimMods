{
 "cells": [
  {
   "cell_type": "code",
   "execution_count": 24,
   "metadata": {
    "collapsed": false
   },
   "outputs": [
    {
     "name": "stdout",
     "output_type": "stream",
     "text": [
      "running\n",
      "Alchemy\n",
      "\n",
      "1\n",
      "2\n",
      "3\n",
      "4\n",
      "5\n",
      "6\n",
      "done\n"
     ]
    }
   ],
   "source": [
    "import requests, json, sys, time, re\n",
    "from bs4 import BeautifulSoup\n",
    "\n",
    "def getId(url):\n",
    "    return url[url.find(\"?id=\")+4: url.find(\"?id=\")+4+url[url.find(\"?id=\")+4:].find(\"&\")]\n",
    "\n",
    "f = open(\"cata2.txt\",'r')\n",
    "output = open(\"tagsToMods.txt\",'w')\n",
    "URL = \"http://steamcommunity.com/workshop/browse/?appid=72850&requiredtags%5B%5D=\"\n",
    "pageStuff = \"&actualsort=trend&p=\"\n",
    "errorMessage = \"No items matching your search criteria were found.\"\n",
    "\n",
    "print(\"running\")\n",
    "\n",
    "storage = {}\n",
    "for line in f:\n",
    "    i=1\n",
    "    run = True\n",
    "    print(line)\n",
    "    storage[line.rstrip()]=[]\n",
    "    while run:\n",
    "        r = requests.get(URL + line.rstrip() + pageStuff + str(i))\n",
    "        t = r.text\n",
    "        soup = BeautifulSoup(t, 'html.parser')\n",
    "        if t.find(errorMessage)!=-1:\n",
    "            run = False\n",
    "            break\n",
    "        print(i)\n",
    "        \n",
    "        for newp in soup.find_all('a'):\n",
    "            if('workshopItem'in str(newp.parent.attrs) and \"Author\" not in str(newp.parent.attrs)):\n",
    "                storage[line.rstrip()].append(getId(newp.get(\"href\")))\n",
    "                #print(storage[line.rstrip()])\n",
    "                #f.write(newp.get(\"href\")+\"\\n\")\n",
    "        \n",
    "        i+=1\n",
    "\n",
    "output.write(\"{\")\n",
    "for element in storage.keys():\n",
    "    output.write(\"\\\"\" + element + \"\\\":\")\n",
    "    json.dump(storage, output)\n",
    "    #output.write(str(storage[element]))\n",
    "output.write(\"}\\n\")\n",
    "f.close()\n",
    "print(\"done\")"
   ]
  },
  {
   "cell_type": "code",
   "execution_count": null,
   "metadata": {
    "collapsed": true
   },
   "outputs": [],
   "source": []
  },
  {
   "cell_type": "code",
   "execution_count": null,
   "metadata": {
    "collapsed": true
   },
   "outputs": [],
   "source": []
  }
 ],
 "metadata": {
  "kernelspec": {
   "display_name": "Python 3",
   "language": "python",
   "name": "python3"
  },
  "language_info": {
   "codemirror_mode": {
    "name": "ipython",
    "version": 3
   },
   "file_extension": ".py",
   "mimetype": "text/x-python",
   "name": "python",
   "nbconvert_exporter": "python",
   "pygments_lexer": "ipython3",
   "version": "3.4.0"
  }
 },
 "nbformat": 4,
 "nbformat_minor": 0
}
