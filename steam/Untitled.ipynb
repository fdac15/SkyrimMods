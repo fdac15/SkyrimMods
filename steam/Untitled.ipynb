{
 "cells": [
  {
   "cell_type": "code",
   "execution_count": null,
   "metadata": {
    "collapsed": false
   },
   "outputs": [
    {
     "name": "stdout",
     "output_type": "stream",
     "text": [
      "Alchemy\n",
      "\n",
      "1\n",
      "2\n",
      "3\n",
      "4\n",
      "5\n",
      "6\n",
      "Animals\n",
      "\n",
      "1\n",
      "2\n",
      "3\n",
      "4\n",
      "5\n",
      "6\n",
      "7\n",
      "8\n",
      "9\n",
      "Animation\n",
      "\n",
      "1\n",
      "2\n",
      "3\n",
      "Armor\n"
     ]
    }
   ],
   "source": [
    "import requests, json, sys, time, re\n",
    "from bs4 import BeautifulSoup\n",
    "\n",
    "f = open(\"catagoryList.txt\",'r')\n",
    "URL = \"http://steamcommunity.com/workshop/browse/?appid=72850&requiredtags%5B%5D=\"\n",
    "pageStuff = \"&actualsort=trend&p=\"\n",
    "errorMessage = \"No items matching your search criteria were found.\"\n",
    "\n",
    "storage = {}\n",
    "for line in f:\n",
    "    i=1\n",
    "    run = True\n",
    "    print(line)\n",
    "    storage[line.rstrip()]=[]\n",
    "    while run:\n",
    "        r = requests.get(URL + line.rstrip() + pageStuff + str(i))\n",
    "        t = r.text\n",
    "        soup = BeautifulSoup(t, 'html.parser')\n",
    "        if t.find(errorMessage)!=-1:\n",
    "            run = False\n",
    "            break\n",
    "        print(i)\n",
    "        \n",
    "        for newp in soup.find_all('a'):\n",
    "            if('workshopItem'in str(newp.parent.attrs) and \"Author\" not in str(newp.parent.attrs)):\n",
    "                storage[line.rstrip()].append(newp.get(\"href\"))\n",
    "                #f.write(newp.get(\"href\")+\"\\n\")\n",
    "        \n",
    "        i+=1\n",
    "        "
   ]
  },
  {
   "cell_type": "code",
   "execution_count": null,
   "metadata": {
    "collapsed": true
   },
   "outputs": [],
   "source": []
  }
 ],
 "metadata": {
  "kernelspec": {
   "display_name": "Python 3",
   "language": "python",
   "name": "python3"
  },
  "language_info": {
   "codemirror_mode": {
    "name": "ipython",
    "version": 3
   },
   "file_extension": ".py",
   "mimetype": "text/x-python",
   "name": "python",
   "nbconvert_exporter": "python",
   "pygments_lexer": "ipython3",
   "version": "3.4.0"
  }
 },
 "nbformat": 4,
 "nbformat_minor": 0
}
