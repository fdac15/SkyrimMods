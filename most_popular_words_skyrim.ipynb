{
 "cells": [
  {
   "cell_type": "code",
   "execution_count": 52,
   "metadata": {
    "collapsed": true
   },
   "outputs": [],
   "source": [
    "import NexusScraper\n",
    "from nltk.tokenize import word_tokenize"
   ]
  },
  {
   "cell_type": "code",
   "execution_count": 53,
   "metadata": {
    "collapsed": true
   },
   "outputs": [],
   "source": [
    "mods = NexusScraper.json_to_modblock('skyrim_mods_all.json')"
   ]
  },
  {
   "cell_type": "code",
   "execution_count": 54,
   "metadata": {
    "collapsed": false
   },
   "outputs": [],
   "source": [
    "wordCount = {}\n",
    "stopwords = [\"'\",\"''\",'\"','the','and',',','.','to','a','for','of','in','is','you','with','This','!','?','that','A','(',')',\n",
    "              'from','it','I',\"'s\",'by','you','your',\"you're\",':','on','as','The','can','-','this','be','are','or',\n",
    "              'will','have',\"``\",'an','my','at','so','not','but','into','some','...','just','It','--','them','also',\n",
    "              'has',\"n't\",'which','Which','do','de','only','i','who','what','when','where','why',\n",
    "              'if','was','&','You',']','[','their','they','http','/''\\\\',';','@','#','$','%','^','*','~','{','}','|',\n",
    "              '+','=','<','>']\n",
    "for mod in mods:\n",
    "    tokens = word_tokenize(mod.des)\n",
    "    for token in tokens:\n",
    "        if token in stopwords:\n",
    "            continue\n",
    "        if token in wordCount:\n",
    "            wordCount[token]+=1\n",
    "        else:\n",
    "            wordCount.update({token:1})"
   ]
  },
  {
   "cell_type": "code",
   "execution_count": 64,
   "metadata": {
    "collapsed": false
   },
   "outputs": [],
   "source": [
    "stuff = wordCount.items()\n",
    "stuff = list(stuff)\n",
    "sortedWordCount = sorted(stuff, key=lambda e: e[1])\n",
    "sortedWordCount.reverse()"
   ]
  },
  {
   "cell_type": "code",
   "execution_count": 66,
   "metadata": {
    "collapsed": false
   },
   "outputs": [],
   "source": [
    "import json\n",
    "\n",
    "with open(\"popularwords_skyrim.json\",'w') as file:\n",
    "    json.dump(sortedWordCount,file)"
   ]
  }
 ],
 "metadata": {
  "kernelspec": {
   "display_name": "Python 3",
   "language": "python",
   "name": "python3"
  },
  "language_info": {
   "codemirror_mode": {
    "name": "ipython",
    "version": 3
   },
   "file_extension": ".py",
   "mimetype": "text/x-python",
   "name": "python",
   "nbconvert_exporter": "python",
   "pygments_lexer": "ipython3",
   "version": "3.4.0"
  }
 },
 "nbformat": 4,
 "nbformat_minor": 0
}
