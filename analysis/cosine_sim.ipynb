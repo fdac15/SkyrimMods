{
 "cells": [
  {
   "cell_type": "code",
   "execution_count": 23,
   "metadata": {
    "collapsed": false
   },
   "outputs": [],
   "source": [
    "import json, itertools\n",
    "from scipy import spatial"
   ]
  },
  {
   "cell_type": "code",
   "execution_count": 24,
   "metadata": {
    "collapsed": true
   },
   "outputs": [],
   "source": [
    "inputfiles_count = [\"../skyrim_data/tag_count_skyrim.json\",\"../oblivion_data/tag_count_oblivion.json\",\n",
    "                    \"../morrowind_data/tag_count_morrowind.json\",\"../dragon_age_data/da/tag_count_da.json\",\n",
    "                    \"../dragon_age_data/da2/tag_count_da2.json\",\"../dragon_age_data/dai/tag_count_dai.json\"]"
   ]
  },
  {
   "cell_type": "code",
   "execution_count": 27,
   "metadata": {
    "collapsed": false
   },
   "outputs": [
    {
     "name": "stdout",
     "output_type": "stream",
     "text": [
      "('../skyrim_data/tag_count_skyrim.json', '../oblivion_data/tag_count_oblivion.json')\n",
      "96 96\n",
      "Cosine Similarity:  0.809242965161 \n",
      "\n",
      "('../skyrim_data/tag_count_skyrim.json', '../morrowind_data/tag_count_morrowind.json')\n",
      "105 105\n",
      "Cosine Similarity:  0.770250241344 \n",
      "\n",
      "('../skyrim_data/tag_count_skyrim.json', '../dragon_age_data/da/tag_count_da.json')\n",
      "83 83\n",
      "Cosine Similarity:  0.850450915434 \n",
      "\n",
      "('../skyrim_data/tag_count_skyrim.json', '../dragon_age_data/da2/tag_count_da2.json')\n",
      "39 39\n",
      "Cosine Similarity:  0.89934188531 \n",
      "\n",
      "('../skyrim_data/tag_count_skyrim.json', '../dragon_age_data/dai/tag_count_dai.json')\n",
      "37 37\n",
      "Cosine Similarity:  0.866874883132 \n",
      "\n",
      "('../oblivion_data/tag_count_oblivion.json', '../morrowind_data/tag_count_morrowind.json')\n",
      "95 95\n",
      "Cosine Similarity:  0.957784871356 \n",
      "\n",
      "('../oblivion_data/tag_count_oblivion.json', '../dragon_age_data/da/tag_count_da.json')\n",
      "83 83\n",
      "Cosine Similarity:  0.750647076422 \n",
      "\n",
      "('../oblivion_data/tag_count_oblivion.json', '../dragon_age_data/da2/tag_count_da2.json')\n",
      "39 39\n",
      "Cosine Similarity:  0.926350766068 \n",
      "\n",
      "('../oblivion_data/tag_count_oblivion.json', '../dragon_age_data/dai/tag_count_dai.json')\n",
      "37 37\n",
      "Cosine Similarity:  0.810313136114 \n",
      "\n",
      "('../morrowind_data/tag_count_morrowind.json', '../dragon_age_data/da/tag_count_da.json')\n",
      "83 83\n",
      "Cosine Similarity:  0.700291236925 \n",
      "\n",
      "('../morrowind_data/tag_count_morrowind.json', '../dragon_age_data/da2/tag_count_da2.json')\n",
      "39 39\n",
      "Cosine Similarity:  0.900469385134 \n",
      "\n",
      "('../morrowind_data/tag_count_morrowind.json', '../dragon_age_data/dai/tag_count_dai.json')\n",
      "37 37\n",
      "Cosine Similarity:  0.739267038545 \n",
      "\n",
      "('../dragon_age_data/da/tag_count_da.json', '../dragon_age_data/da2/tag_count_da2.json')\n",
      "39 39\n",
      "Cosine Similarity:  0.930954777203 \n",
      "\n",
      "('../dragon_age_data/da/tag_count_da.json', '../dragon_age_data/dai/tag_count_dai.json')\n",
      "37 37\n",
      "Cosine Similarity:  0.879968966142 \n",
      "\n",
      "('../dragon_age_data/da2/tag_count_da2.json', '../dragon_age_data/dai/tag_count_dai.json')\n",
      "35 35\n",
      "Cosine Similarity:  0.879431596529 \n",
      "\n"
     ]
    }
   ],
   "source": [
    "for i in itertools.combinations(inputfiles_count, 2):\n",
    "    f1 = json.load(open(i[0]))\n",
    "    f2 = json.load(open(i[1]))\n",
    "    d1 = []\n",
    "    d2 = []\n",
    "    for key in f1.keys():\n",
    "        try: \n",
    "            d2.append(f2[key])\n",
    "            d1.append(f1[key])\n",
    "        except:\n",
    "            continue\n",
    "\n",
    "    print i\n",
    "    print len(d1), len(d2)\n",
    "    result = 1 - spatial.distance.cosine(d1, d2)\n",
    "\n",
    "    print \"Cosine Similarity: \",result,'\\n'"
   ]
  },
  {
   "cell_type": "code",
   "execution_count": 28,
   "metadata": {
    "collapsed": true
   },
   "outputs": [],
   "source": [
    "rq3_data = [[\"../dragon_age_data/dai/tag_count_dai.json\",\"../dragon_age_data/dai/dai_udl_count.txt\"],\n",
    "           [\"../dragon_age_data/da2/tag_count_da2.json\",\"../dragon_age_data/da2/da2_udl_count.txt\"],\n",
    "           [\"../dragon_age_data/da/tag_count_da.json\",\"../dragon_age_data/da/da_udl_count.txt\"],\n",
    "           [\"../morrowind_data/tag_count_morrowind.json\",\"../morrowind_data/morrowind_udl_count.txt\"],\n",
    "           [\"../oblivion_data/tag_count_oblivion.json\",\"../oblivion_data/oblivion_udl_count.txt\"],\n",
    "           [\"../skyrim_data/tag_count_skyrim.json\",\"../skyrim_data/skyrim_udl_count.txt\"]]"
   ]
  },
  {
   "cell_type": "code",
   "execution_count": 37,
   "metadata": {
    "collapsed": false
   },
   "outputs": [
    {
     "name": "stdout",
     "output_type": "stream",
     "text": [
      "['../dragon_age_data/dai/tag_count_dai.json', '../dragon_age_data/dai/dai_udl_count.txt']\n",
      "38 38\n",
      "Cosine Similarity:  0.888037620016 \n",
      "\n",
      "['../dragon_age_data/da2/tag_count_da2.json', '../dragon_age_data/da2/da2_udl_count.txt']\n",
      "40 40\n",
      "Cosine Similarity:  0.887333709873 \n",
      "\n",
      "['../dragon_age_data/da/tag_count_da.json', '../dragon_age_data/da/da_udl_count.txt']\n",
      "108 108\n",
      "Cosine Similarity:  0.874658964922 \n",
      "\n",
      "['../morrowind_data/tag_count_morrowind.json', '../morrowind_data/morrowind_udl_count.txt']\n",
      "101 101\n",
      "Cosine Similarity:  0.980790877686 \n",
      "\n",
      "['../oblivion_data/tag_count_oblivion.json', '../oblivion_data/oblivion_udl_count.txt']\n",
      "106 106\n",
      "Cosine Similarity:  0.733928303849 \n",
      "\n",
      "['../skyrim_data/tag_count_skyrim.json', '../skyrim_data/skyrim_udl_count.txt']\n",
      "102 102\n",
      "Cosine Similarity:  0.873282259935 \n",
      "\n"
     ]
    }
   ],
   "source": [
    "for i in rq3_data:\n",
    "    f1 = json.load(open(i[0]))\n",
    "    f2 = {}\n",
    "    with open(i[1]) as tf2:\n",
    "        for line in tf2:\n",
    "            if line != \"\":\n",
    "                parts = line.strip().split(':')\n",
    "                \n",
    "                f2[parts[0]] = int(parts[-1])\n",
    "    d1 = []\n",
    "    d2 = []\n",
    "    \n",
    "    for key in f1.keys():\n",
    "        try: \n",
    "            d2.append(f2[key])\n",
    "            d1.append(f1[key])\n",
    "        except:\n",
    "            continue\n",
    "            \n",
    "    print i\n",
    "    print len(d1), len(d2)\n",
    "    result = 1 - spatial.distance.cosine(d1, d2)\n",
    "\n",
    "    print \"Cosine Similarity: \",result,'\\n'"
   ]
  },
  {
   "cell_type": "code",
   "execution_count": null,
   "metadata": {
    "collapsed": true
   },
   "outputs": [],
   "source": []
  }
 ],
 "metadata": {
  "kernelspec": {
   "display_name": "Python 2",
   "language": "python",
   "name": "python2"
  },
  "language_info": {
   "codemirror_mode": {
    "name": "ipython",
    "version": 2
   },
   "file_extension": ".py",
   "mimetype": "text/x-python",
   "name": "python",
   "nbconvert_exporter": "python",
   "pygments_lexer": "ipython2",
   "version": "2.7.6"
  }
 },
 "nbformat": 4,
 "nbformat_minor": 0
}
