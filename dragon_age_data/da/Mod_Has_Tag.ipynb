{
 "cells": [
  {
   "cell_type": "code",
   "execution_count": 94,
   "metadata": {
    "collapsed": false
   },
   "outputs": [],
   "source": [
    "import json\n",
    "import numpy"
   ]
  },
  {
   "cell_type": "code",
   "execution_count": 95,
   "metadata": {
    "collapsed": true
   },
   "outputs": [],
   "source": [
    "#get tags and mods\n",
    "\n",
    "tags = ()\n",
    "with open('taglist_by_mod_da.json') as file:\n",
    "    data = json.load(file)\n",
    "    tags = tuple(data.keys())\n",
    "    \n",
    "mods = ()\n",
    "with open('taglist_da.json') as file:\n",
    "    data = json.load(file)\n",
    "    mods = tuple(data.keys())"
   ]
  },
  {
   "cell_type": "code",
   "execution_count": 96,
   "metadata": {
    "collapsed": false
   },
   "outputs": [],
   "source": [
    "data = {}\n",
    "with open('taglist_da.json') as file:\n",
    "    data = json.load(file)\n",
    "bools = []\n",
    "for mod in mods:\n",
    "    temp = []\n",
    "    for tag in tags:\n",
    "        if tag in data[mod]:\n",
    "            temp.append(1)\n",
    "        else:\n",
    "            temp.append(0)\n",
    "    bools.append(temp)"
   ]
  },
  {
   "cell_type": "code",
   "execution_count": 97,
   "metadata": {
    "collapsed": false
   },
   "outputs": [],
   "source": [
    "import csv"
   ]
  },
  {
   "cell_type": "code",
   "execution_count": 98,
   "metadata": {
    "collapsed": false
   },
   "outputs": [],
   "source": [
    "writer = csv.DictWriter(open('tag_in_mod.csv','w'), fieldnames=tags)"
   ]
  },
  {
   "cell_type": "code",
   "execution_count": 99,
   "metadata": {
    "collapsed": false
   },
   "outputs": [],
   "source": [
    "writer.writeheader()\n",
    "for row in bools:\n",
    "    writer.writerow({tags[i]: row[i] for i in range(len(row))})"
   ]
  }
 ],
 "metadata": {
  "kernelspec": {
   "display_name": "Python 3",
   "language": "python",
   "name": "python3"
  },
  "language_info": {
   "codemirror_mode": {
    "name": "ipython",
    "version": 3
   },
   "file_extension": ".py",
   "mimetype": "text/x-python",
   "name": "python",
   "nbconvert_exporter": "python",
   "pygments_lexer": "ipython3",
   "version": "3.5.1"
  }
 },
 "nbformat": 4,
 "nbformat_minor": 0
}
