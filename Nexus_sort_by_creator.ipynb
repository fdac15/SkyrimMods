{
 "cells": [
  {
   "cell_type": "code",
   "execution_count": 28,
   "metadata": {
    "collapsed": true
   },
   "outputs": [],
   "source": [
    "import NexusScraper"
   ]
  },
  {
   "cell_type": "code",
   "execution_count": 33,
   "metadata": {
    "collapsed": true
   },
   "outputs": [],
   "source": [
    "mods = NexusScraper.json_to_modblock('skyrim_mods_all.json')"
   ]
  },
  {
   "cell_type": "code",
   "execution_count": 34,
   "metadata": {
    "collapsed": true
   },
   "outputs": [],
   "source": [
    "mods_creator = {}\n",
    "for mod in mods:\n",
    "    if mod.creator in mods_creator:\n",
    "        mods_creator[mod.creator].append(mod.to_list())\n",
    "    else:\n",
    "        mods_creator.update({mod.creator: [mod.to_list()]})"
   ]
  },
  {
   "cell_type": "code",
   "execution_count": 35,
   "metadata": {
    "collapsed": false
   },
   "outputs": [],
   "source": [
    "import locale\n",
    "locale.setlocale(locale.LC_ALL, 'en_US.UTF-8')\n",
    "\n",
    "mods.sort(key=lambda mod: locale.atoi(mod.downloads))\n",
    "mods.reverse()"
   ]
  },
  {
   "cell_type": "code",
   "execution_count": 42,
   "metadata": {
    "collapsed": false
   },
   "outputs": [
    {
     "data": {
      "text/plain": [
       "[['http://www.nexusmods.com/skyrim/mods/4929/',\n",
       "  '190,157',\n",
       "  '5,818,378',\n",
       "  'A Quality World Map and Solstheim Map - With Roads',\n",
       "  \"''''\\n\\t\\t\\t\\t\\t\\tGreatly improves the quality of the World Map, including accurate hand-drawn roads. Choose between having All Roads, or just the Main Roads.  Also includes the Solstheim map from the Dragonborn DLC.  Installer support for NMM, MO, and Wrye Bash. Version 8.4\\t\\t\\t\\t\\t\\t''''\",\n",
       "  'Released: 30/12/2011 - 06:40PM',\n",
       "  'Updated: 19/04/2015 - 04:43PM',\n",
       "  'IcePenguin'],\n",
       " ['http://www.nexusmods.com/skyrim/mods/64125/',\n",
       "  '1,238',\n",
       "  '13,901',\n",
       "  'Wearable Lanterns - Lighting Fix',\n",
       "  \"''''\\n\\t\\t\\t\\t\\t\\tThis mod fixes the bright glowing effect on Chesko's Wearable Lanterns mod.  It is based on his 3.0b version.\\t\\t\\t\\t\\t\\t''''\",\n",
       "  'Released: 27/03/2015 - 04:49AM',\n",
       "  'Updated: 29/03/2015 - 07:17AM',\n",
       "  'IcePenguin'],\n",
       " ['http://www.nexusmods.com/skyrim/mods/5989/',\n",
       "  '54',\n",
       "  '1,716',\n",
       "  'Cute and Colorful Armor',\n",
       "  \"''''\\n\\t\\t\\t\\t\\t\\tThis is a re-texture of the Triss Armor.  I tried to make it cute and stuff.  ~__~\\t\\t\\t\\t\\t\\t''''\",\n",
       "  'Released: 12/01/2012 - 11:13AM',\n",
       "  'Updated: 14/01/2012 - 03:26PM',\n",
       "  'IcePenguin'],\n",
       " ['http://www.nexusmods.com/skyrim/mods/4210/',\n",
       "  '595',\n",
       "  '21,569',\n",
       "  'ipHUD - Complete Edition v2',\n",
       "  \"''''\\n\\t\\t\\t\\t\\t\\tTwo HUD styles with many different options.  Supports multiple resolutions!  :)  Includes custom configuration for theit8514's Expanded Favorites Menu mod and support with Forsaken32's Colored Map Markers mod.  Choose the one you like!\\t\\t\\t\\t\\t\\t''''\",\n",
       "  'Released: 20/12/2011 - 07:29PM',\n",
       "  'Updated: 21/12/2011 - 01:11PM',\n",
       "  'IcePenguin'],\n",
       " ['http://www.nexusmods.com/skyrim/mods/4482/',\n",
       "  '936',\n",
       "  '48,702',\n",
       "  '3rd Person Sprint - Ninja Style',\n",
       "  \"''''\\n\\t\\t\\t\\t\\t\\tChanges the vanilla sprinting animation to the dual-wield sprinting animation.  Ninja style!  For male and female.\\t\\t\\t\\t\\t\\t''''\",\n",
       "  'Released: 24/12/2011 - 09:13AM',\n",
       "  'Updated: 26/12/2011 - 04:28PM',\n",
       "  'IcePenguin'],\n",
       " ['http://www.nexusmods.com/skyrim/mods/5921/',\n",
       "  '30',\n",
       "  '1,086',\n",
       "  'Hello Kitty Armor',\n",
       "  \"''''\\n\\t\\t\\t\\t\\t\\tHello Kitty re-texture for the Triss armor.  Colorful and cute!  Haha.  ~_~\\t\\t\\t\\t\\t\\t''''\",\n",
       "  'Released: 11/01/2012 - 11:17AM',\n",
       "  'Updated: 28/02/2015 - 05:11AM',\n",
       "  'IcePenguin'],\n",
       " ['http://www.nexusmods.com/skyrim/mods/4338/',\n",
       "  '132',\n",
       "  '2,646',\n",
       "  '1st Person View Glass Armor Fix',\n",
       "  \"''''\\n\\t\\t\\t\\t\\t\\tRemoves the female Glass Armor glitch in first-person view.\\t\\t\\t\\t\\t\\t''''\",\n",
       "  'Released: 22/12/2011 - 01:32PM',\n",
       "  'Updated: 26/12/2011 - 04:27PM',\n",
       "  'IcePenguin'],\n",
       " ['http://www.nexusmods.com/skyrim/mods/6262/',\n",
       "  '143',\n",
       "  '2,330',\n",
       "  'Comfy Leather Armor',\n",
       "  \"''''\\n\\t\\t\\t\\t\\t\\tThis mod make Leather Armor less bulky, less fuzzy, and extra comfy.\\t\\t\\t\\t\\t\\t''''\",\n",
       "  'Released: 15/01/2012 - 11:26AM',\n",
       "  'Updated: 10/04/2013 - 07:33AM',\n",
       "  'IcePenguin'],\n",
       " ['http://www.nexusmods.com/skyrim/mods/6411/',\n",
       "  '2,262',\n",
       "  '41,055',\n",
       "  'A Clear World Map - With Clouds',\n",
       "  \"''''\\n\\t\\t\\t\\t\\t\\tThis is NOT an INI tweak.  :)  Removes clouds over Skyrim on the world map, but keeps the clouds that cover up Tamriel.\\t\\t\\t\\t\\t\\t''''\",\n",
       "  'Released: 17/01/2012 - 10:48AM',\n",
       "  'Updated: 27/01/2012 - 09:40PM',\n",
       "  'IcePenguin']]"
      ]
     },
     "execution_count": 42,
     "metadata": {},
     "output_type": "execute_result"
    }
   ],
   "source": [
    "mods_creator[mods[6].creator]"
   ]
  },
  {
   "cell_type": "code",
   "execution_count": null,
   "metadata": {
    "collapsed": true
   },
   "outputs": [],
   "source": []
  }
 ],
 "metadata": {
  "kernelspec": {
   "display_name": "Python 3",
   "language": "python",
   "name": "python3"
  },
  "language_info": {
   "codemirror_mode": {
    "name": "ipython",
    "version": 3
   },
   "file_extension": ".py",
   "mimetype": "text/x-python",
   "name": "python",
   "nbconvert_exporter": "python",
   "pygments_lexer": "ipython3",
   "version": "3.4.0"
  }
 },
 "nbformat": 4,
 "nbformat_minor": 0
}
