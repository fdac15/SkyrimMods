{
 "cells": [
  {
   "cell_type": "code",
   "execution_count": 13,
   "metadata": {
    "collapsed": false
   },
   "outputs": [
    {
     "name": "stdout",
     "output_type": "stream",
     "text": [
      "avg. popularity of all mods: 8.632766073848338e-05%\n",
      "\n",
      "\n",
      "% likes/dl most downloaded: 0.7752834011421188%\n",
      "url: http://www.nexusmods.com/skyrim/mods/607/\n",
      "likes: 132,671\n",
      "downloads: 17,112,581\n",
      "name: Skyrim HD - 2K Textures\n",
      "description: '''\n",
      "\t\t\t\t\t\tThe most downloaded high resolution texture mod for skyrim.\t\t\t\t\t\t'''\n",
      "created: Released: 19/11/2011 - 01:03AM\n",
      "updated: Updated: 12/10/2015 - 01:47AM\n",
      "created by: NebuLa1\n",
      "\n",
      "% likes/dl most endorsed: 3.369156205670323%\n",
      "url: http://www.nexusmods.com/skyrim/mods/3863/\n",
      "likes: 351,178\n",
      "downloads: 10,423,322\n",
      "name: SkyUI\n",
      "description: '''\n",
      "\t\t\t\t\t\tElegant, PC-friendly interface mod with many advanced features.\t\t\t\t\t\t'''\n",
      "created: Released: 17/12/2011 - 12:24AM\n",
      "updated: Updated: 24/08/2015 - 03:38PM\n",
      "created by: schlangster\n"
     ]
    }
   ],
   "source": [
    "import NexusScraper\n",
    "import locale\n",
    "\n",
    "locale.setlocale(locale.LC_ALL, 'en_US.UTF-8')\n",
    "\n",
    "mods = NexusScraper.json_to_modblock('skyrim_mods_all.json')\n",
    "tot = 0\n",
    "totlikes=0\n",
    "totdl = 0\n",
    "\n",
    "#sort by downloads\n",
    "mods.sort(key=lambda mod: locale.atoi(mod.downloads))\n",
    "\n",
    "for mod in mods:\n",
    "    totlikes+= locale.atoi(mod.likes)\n",
    "    totdl+= locale.atoi(mod.downloads)\n",
    "\n",
    "#average popularity of all modes\n",
    "print(\"avg. popularity of all mods: \"+str(100*(totlikes/totdl)/len(mods))+\"%\\n\")\n",
    "\n",
    "#popularity index of most downloads mod\n",
    "likes= locale.atoi(mods[len(mods)-1].likes)\n",
    "dl= locale.atoi(mods[len(mods)-1].downloads)\n",
    "print(\"\\n% likes/dl most downloaded: \"+ str(100*(likes/dl))+\"%\")\n",
    "\n",
    "mods[len(mods)-1].print_mod()\n",
    "\n",
    "\n",
    "#sort by endorsements\n",
    "mods.sort(key=lambda mod: locale.atoi(mod.likes))\n",
    "\n",
    "#popularity index of most liked mod\n",
    "likes= locale.atoi(mods[len(mods)-1].likes)\n",
    "dl= locale.atoi(mods[len(mods)-1].downloads)\n",
    "print(\"\\n% likes/dl most endorsed: \"+str(100*(likes/dl))+\"%\")\n",
    "\n",
    "mods[len(mods)-1].print_mod()\n"
   ]
  },
  {
   "cell_type": "code",
   "execution_count": null,
   "metadata": {
    "collapsed": true
   },
   "outputs": [],
   "source": []
  }
 ],
 "metadata": {
  "kernelspec": {
   "display_name": "Python 3",
   "language": "python",
   "name": "python3"
  },
  "language_info": {
   "codemirror_mode": {
    "name": "ipython",
    "version": 3
   },
   "file_extension": ".py",
   "mimetype": "text/x-python",
   "name": "python",
   "nbconvert_exporter": "python",
   "pygments_lexer": "ipython3",
   "version": "3.4.0"
  }
 },
 "nbformat": 4,
 "nbformat_minor": 0
}
