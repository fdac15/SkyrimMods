{
 "cells": [
  {
   "cell_type": "code",
   "execution_count": 17,
   "metadata": {
    "collapsed": false
   },
   "outputs": [
    {
     "name": "stdout",
     "output_type": "stream",
     "text": [
      "8.632766073848338e-07\n",
      "0.023023023023023025\n",
      "0.031067296927478543\n"
     ]
    }
   ],
   "source": [
    "import NexusScraper\n",
    "import locale\n",
    "loc = locale.getlocale()\n",
    "locale.setlocale(locale.LC_ALL, loc)\n",
    "\n",
    "mods = NexusScraper.json_to_modblock('skyrim_mods_all.json')\n",
    "tot = 0\n",
    "totlikes=0\n",
    "totdl = 0\n",
    "\n",
    "mods.sort(key=lambda mod: mod.downloads)\n",
    "\n",
    "for mod in mods:\n",
    "    totlikes+= locale.atoi(mod.likes)\n",
    "    totdl+= locale.atoi(mod.downloads)\n",
    "\n",
    "#average popularity of all modes\n",
    "print((totlikes/totdl)/len(mods))\n",
    "\n",
    "#popularity index of most downloads mod\n",
    "likes= locale.atoi(mods[len(mods)-1].likes)\n",
    "dl= locale.atoi(mods[len(mods)-1].downloads)\n",
    "print((likes/dl))\n",
    "\n",
    "\n",
    "mods.sort(key=lambda mod: mod.likes)\n",
    "\n",
    "#popularity index of most liked mod\n",
    "likes= locale.atoi(mods[len(mods)-1].likes)\n",
    "dl= locale.atoi(mods[len(mods)-1].downloads)\n",
    "print((likes/dl))"
   ]
  },
  {
   "cell_type": "code",
   "execution_count": null,
   "metadata": {
    "collapsed": true
   },
   "outputs": [],
   "source": []
  }
 ],
 "metadata": {
  "kernelspec": {
   "display_name": "Python 3",
   "language": "python",
   "name": "python3"
  },
  "language_info": {
   "codemirror_mode": {
    "name": "ipython",
    "version": 3
   },
   "file_extension": ".py",
   "mimetype": "text/x-python",
   "name": "python",
   "nbconvert_exporter": "python",
   "pygments_lexer": "ipython3",
   "version": "3.4.0"
  }
 },
 "nbformat": 4,
 "nbformat_minor": 0
}
