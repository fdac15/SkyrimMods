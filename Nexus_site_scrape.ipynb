{
 "cells": [
  {
   "cell_type": "markdown",
   "metadata": {},
   "source": [
    "<h1 style = \"font-size:25px\">Nexus site scraping</h1>\n",
    "<h2 style=\"font-size:15px\">  Author: Jacob Massengill, et. al. (add your name if you edit this)</h2>\n",
    "\n",
    "<p>This notebook defines classes and functions that will be used to scrape the Nexus skyrim site\n",
    "</p>"
   ]
  },
  {
   "cell_type": "code",
   "execution_count": 47,
   "metadata": {
    "collapsed": false
   },
   "outputs": [],
   "source": [
    "#define a timer which will be used to \n",
    "#regulate the speed at which pages will be\n",
    "#retrieved\n",
    "\n",
    "#pages retrieved/sec = (1/self.mtime)\n",
    "import time\n",
    "class StopWatch:\n",
    "    def __init__(self, time):\n",
    "        self.mtime = time\n",
    "    def start(self):\n",
    "        ctime = time.time()+self.mtime\n",
    "        while(ctime > time.time()):\n",
    "            pass"
   ]
  },
  {
   "cell_type": "code",
   "execution_count": 6,
   "metadata": {
    "collapsed": false
   },
   "outputs": [
    {
     "name": "stdout",
     "output_type": "stream",
     "text": [
      "10 9 8 7 6 5 4 3 2 1 "
     ]
    }
   ],
   "source": [
    "#demo of stop_watch\n",
    "timer = StopWatch(1)\n",
    "for i in reversed(range(10)):\n",
    "    timer.start()\n",
    "    print (i+1, end=\" \")"
   ]
  },
  {
   "cell_type": "code",
   "execution_count": 4,
   "metadata": {
    "collapsed": false
   },
   "outputs": [],
   "source": [
    "#defines a function for getting the urls for each\n",
    "#nexus skyrim category\n",
    "import requests\n",
    "from bs4 import BeautifulSoup\n",
    "\n",
    "#returns a list of category urls from the nexus skyrim site\n",
    "def get_nexus_cat_urls(url='http://www.nexusmods.com/skyrim/mods/categories/?'):\n",
    "\n",
    "    #get categories page\n",
    "    main_page = requests.get(url)\n",
    "    main_soup = BeautifulSoup(main_page.text, 'html')\n",
    "\n",
    "    #get category urls from categories page\n",
    "    #they will be the initialized stack for the webcrawler\n",
    "    cat_list = main_soup.find('ul', class_=\"category-list\")\n",
    "    cat_urls = []\n",
    "    for link in cat_list.find_all('a', href=True):\n",
    "        cat_urls.append(link['href'])\n",
    "    \n",
    "    #remove the top element, it is a site statistic href\n",
    "    cat_urls.pop()\n",
    "    return cat_urls"
   ]
  },
  {
   "cell_type": "code",
   "execution_count": null,
   "metadata": {
    "collapsed": false
   },
   "outputs": [],
   "source": [
    "#demo for get_nexus_cat_urls\n",
    "cat_urls = get_nexus_cat_urls()\n",
    "for link in sorted(cat_urls):\n",
    "    print (link)"
   ]
  },
  {
   "cell_type": "markdown",
   "metadata": {},
   "source": [
    "<p><h1 style=\"font-size:12px\">In the cells below, need to define:</h1><br>\n",
    "   1) a class for holding statistics about each mod <br>\n",
    "   2) function for getting those statistics using cat_urls <br>\n",
    "   3) function for exploring each mod's particular page <br>\n",
    "</p>"
   ]
  },
  {
   "cell_type": "code",
   "execution_count": 32,
   "metadata": {
    "collapsed": false
   },
   "outputs": [],
   "source": [
    "#read some url pages, study what else can be added\n",
    "\n",
    "#container class for information on mod\n",
    "class ModBlock:\n",
    "    def __init__(self):\n",
    "        self.url = ''\n",
    "        self.likes = 0\n",
    "        self.downloads = 0\n",
    "        self.name = ''\n",
    "        self.des = ''\n",
    "        self.created = ''\n",
    "        self.update = ''\n",
    "        self.creator= ''\n",
    "    def __init__(self,html):\n",
    "        self.from_html(html)\n",
    "    def print_mod(self):\n",
    "        print('{0}: {1}'.format('url', self.url))\n",
    "        print('{0}: {1}'.format('likes', self.likes))\n",
    "        print('{0}: {1}'.format('downloads', self.downloads))\n",
    "        print('{0}: {1}'.format('name', self.name))\n",
    "        print('{0}: {1}'.format('description', self.des))\n",
    "        print('{0}: {1}'.format('created', self.created))\n",
    "        print('{0}: {1}'.format('updated', self.update))\n",
    "        print('{0}: {1}'.format('created by', self.creator))\n",
    "    #should be an entry from get_nexus_mods\n",
    "    def from_html(self, html):\n",
    "        self.url = html.find('a', class_='image bubble-open pb-hover pb-left pb-ajax pb-forceclose', href=True)['href']\n",
    "        self.likes = html.find('span', class_='likes').text\n",
    "        self.downloads = html.find('span', class_='downloads').text\n",
    "        self.name = html.find('a', class_='title').text\n",
    "        self.des = html.find('div', class_=None).text\n",
    "        self.created = html.find('div', class_='category-file-hover-released').text\n",
    "        self.update = html.find('div', class_='category-file-hover-updated').text\n",
    "        self.creator = html.find('a', class_='user').text\n",
    "        "
   ]
  },
  {
   "cell_type": "code",
   "execution_count": 54,
   "metadata": {
    "collapsed": true
   },
   "outputs": [],
   "source": [
    "#gets a list of the nexus mods at url\n",
    "#currently just gets the html. \n",
    "#change this to put things into a class\n",
    "def get_nexus_mods(url):\n",
    "    page = requests.get(url)\n",
    "    \n",
    "    if page.status_code != 200:\n",
    "        return None\n",
    "    \n",
    "    soup = BeautifulSoup(page.text, 'html')\n",
    "\n",
    "    blockList = soup.find('ul', class_=\"block-list\")\n",
    "    popboxes = blockList.find_all('li', class_='popbox')\n",
    "    \n",
    "    return popboxes"
   ]
  },
  {
   "cell_type": "code",
   "execution_count": 28,
   "metadata": {
    "collapsed": false
   },
   "outputs": [
    {
     "name": "stdout",
     "output_type": "stream",
     "text": [
      "<li class=\"popbox\">\n",
      "\t\t\t\t<a class=\"image bubble-open pb-hover pb-left pb-ajax pb-forceclose\" href=\"http://www.nexusmods.com/skyrim/mods/70322/\">\n",
      "\t\t\t\t\t<p class=\"stats\">\n",
      "\t\t\t\t\t\t<span class=\"likes\">11</span>\n",
      "\t\t\t\t\t\t<span class=\"downloads\">94</span> \n",
      "\t\t\t\t\t</p>\n",
      "\t\t\t\t\t<span class=\"stats-overlay\">\n",
      "\t\t\t\t\t</span>\n",
      "\t\t\t\t\t<div class=\"image-overlay\" style=\"display: none;\">\n",
      "\t\t\t\t\t\t<p></p>\n",
      "\t\t\t\t\t</div>\n",
      "\t\t\t\t\t<center>\n",
      "\t\t\t\t\t\t<img alt=\"Swampwater Cottage\" src=\"http://static-2.nexusmods.com/15/mods/110/images/thumbnails/70322-6-1444011050.jpg\"/>\n",
      "\t\t\t\t\t</center>\n",
      "\t\t\t\t</a>\n",
      "\t\t\t\t<div class=\"bubble-collapse\">\n",
      "\t\t\t\t\t<div class=\"bubble-box category-file-hover-desc\" style=\"display: none; left: 192px; bottom: -56px; z-index:99;\">\n",
      "\t\t\t\t\t\t<div class=\"bubble-arrow arrowleft\" style=\"top: 94.5px;\"></div>\n",
      "\t\t\t\t\t\t<div class=\"bubble-arrow-border arrowleft-border\" style=\"top: 94.5px;\"></div>\n",
      "\t\t\t\t\t\t<div class=\"heading-wrap\">Swampwater Cottage</div>\n",
      "\t\t\t\t\t\t<div>\n",
      "\t\t\t\t\t\t\t\t\t\t\t\t</div>\n",
      "\t\t\t\t\t\t<div class=\"category-file-hover-released\">Released: 05/10/2015 - 03:27AM</div>\n",
      "\t\t\t\t\t\t<div class=\"category-file-hover-updated\">Updated: 05/10/2015 - 03:27AM</div>\t\t\n",
      "\t\t\t\t\t</div>\n",
      "\t\t\t\t</div>\n",
      "\t\t\t\n",
      "\t\t\t\t<a class=\"title\" href=\"http://www.nexusmods.com/skyrim/mods/70322\" title=\"Swampwater Cottage\">Swampwater Cottage</a><br/>\n",
      "\t\t\t\t<span class=\"user\">by</span> <a class=\"user\" href=\"http://www.nexusmods.com/skyrim/users/26215949\">Weso1</a>\n",
      "\t\t\t\t\t\t\t</li>\n"
     ]
    }
   ],
   "source": [
    "#demo of get_nexus_mods\n",
    "cat_urls = get_nexus_cat_urls()\n",
    "mods = get_nexus_mods(cat_urls[0])\n",
    "print(mods[3])"
   ]
  },
  {
   "cell_type": "code",
   "execution_count": 36,
   "metadata": {
    "collapsed": false
   },
   "outputs": [
    {
     "name": "stdout",
     "output_type": "stream",
     "text": [
      "url: http://www.nexusmods.com/skyrim/mods/70414/\n",
      "likes: 13\n",
      "downloads: 204\n",
      "name: HauntedLady1.1\n",
      "description: \n",
      "\t\t\t\t\t\tMy sixth \"full service\" player home with room for several followers. Has lots of storage an armory and dungeon pool.  Great mod for starting a new game or any level.  Takes very little memory. No DLC required. \t\t\t\t\t\t\n",
      "created: Released: 08/10/2015 - 09:26PM\n",
      "updated: Updated: 10/10/2015 - 06:32PM\n",
      "created by: Whitemorn\n"
     ]
    }
   ],
   "source": [
    "#demo of ModBlock. get a list of modBlocks from single nexus mod page\n",
    "modList = []\n",
    "for e in mods:\n",
    "    modList.append(ModBlock(e))\n",
    "modList[0].print_mod()"
   ]
  },
  {
   "cell_type": "code",
   "execution_count": 57,
   "metadata": {
    "collapsed": false
   },
   "outputs": [],
   "source": [
    "#returns a list of modblocks from pages start to end (inclusive)\n",
    "#grabs pages at a rate of rr/sec\n",
    "\n",
    "def get_nexus_mods_from_pages(start = 1, end = 1, rr = 1):\n",
    "    timer = StopWatch(rr)\n",
    "    mods = []\n",
    "    for i in range(start, end+1):\n",
    "        timer.start()\n",
    "        url = 'http://www.nexusmods.com/skyrim/mods/searchresults/?src_order=3&src_sort=0&src_view=1&src_tab=1&src_language=0&page='+str(i)+'&pUp=1'\n",
    "        \n",
    "        modList = get_nexus_mods(url)\n",
    "        if modList == None:\n",
    "            print('no mods on page {0}\\nare you sure your\\'e in range?'.format(url))\n",
    "        for e in modList:\n",
    "            mods.append(ModBlock(e))\n",
    "    return mods"
   ]
  },
  {
   "cell_type": "code",
   "execution_count": 59,
   "metadata": {
    "collapsed": false
   },
   "outputs": [
    {
     "name": "stdout",
     "output_type": "stream",
     "text": [
      "url: http://www.nexusmods.com/skyrim/mods/607/\n",
      "likes: 130,790\n",
      "downloads: 17,055,974\n",
      "name: Skyrim HD - 2K Texture...\n",
      "description: \n",
      "\t\t\t\t\t\tThe most downloaded high resolution texture mod for skyrim.\t\t\t\t\t\t\n",
      "created: Released: 19/11/2011 - 01:03AM\n",
      "updated: Updated: 04/10/2015 - 12:49PM\n",
      "created by: NebuLa1\n"
     ]
    }
   ],
   "source": [
    "mods = get_nexus_mods_from_pages(end=3)\n",
    "mods[0].print_mod()"
   ]
  },
  {
   "cell_type": "code",
   "execution_count": 60,
   "metadata": {
    "collapsed": false
   },
   "outputs": [
    {
     "name": "stdout",
     "output_type": "stream",
     "text": [
      "90\n"
     ]
    }
   ],
   "source": [
    "print(len(mods))"
   ]
  },
  {
   "cell_type": "code",
   "execution_count": null,
   "metadata": {
    "collapsed": true
   },
   "outputs": [],
   "source": []
  }
 ],
 "metadata": {
  "kernelspec": {
   "display_name": "Python 3",
   "language": "python",
   "name": "python3"
  },
  "language_info": {
   "codemirror_mode": {
    "name": "ipython",
    "version": 3
   },
   "file_extension": ".py",
   "mimetype": "text/x-python",
   "name": "python",
   "nbconvert_exporter": "python",
   "pygments_lexer": "ipython3",
   "version": "3.4.0"
  }
 },
 "nbformat": 4,
 "nbformat_minor": 0
}
