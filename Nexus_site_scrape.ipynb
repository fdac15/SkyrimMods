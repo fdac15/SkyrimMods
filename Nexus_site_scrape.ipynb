{
 "cells": [
  {
   "cell_type": "markdown",
   "metadata": {},
   "source": [
    "<h1 style = \"font-size:25px\">Nexus site scraping</h1>\n",
    "<h2 style=\"font-size:15px\">  Author: Jacob Massengill, et. al. (add your name if you edit this)</h2>\n",
    "\n",
    "<p>This notebook defines classes and functions that will be used to scrape the Nexus skyrim site\n",
    "</p>"
   ]
  },
  {
   "cell_type": "code",
   "execution_count": 2,
   "metadata": {
    "collapsed": false
   },
   "outputs": [],
   "source": [
    "#define a timer which will be used to \n",
    "#regulate the speed at which pages will be\n",
    "#retrieved\n",
    "\n",
    "#pages retrieved/sec = (1/self.mtime)\n",
    "import time\n",
    "class StopWatch:\n",
    "    def __init__(self, time):\n",
    "        self.mtime = time\n",
    "    def start(self):\n",
    "        ctime = time.time()+self.mtime\n",
    "        while(ctime > time.time()):\n",
    "            pass"
   ]
  },
  {
   "cell_type": "code",
   "execution_count": 6,
   "metadata": {
    "collapsed": false
   },
   "outputs": [
    {
     "name": "stdout",
     "output_type": "stream",
     "text": [
      "10 9 8 7 6 5 4 3 2 1 "
     ]
    }
   ],
   "source": [
    "#demo of stop_watch\n",
    "timer = StopWatch(1)\n",
    "for i in reversed(range(10)):\n",
    "    timer.start()\n",
    "    print (i+1, end=\" \")"
   ]
  },
  {
   "cell_type": "code",
   "execution_count": 5,
   "metadata": {
    "collapsed": false
   },
   "outputs": [],
   "source": [
    "#defines a function for getting the urls for each\n",
    "#nexus skyrim category\n",
    "import requests\n",
    "from bs4 import BeautifulSoup\n",
    "\n",
    "#returns a list of category urls from the nexus skyrim site\n",
    "def get_nexus_cat_urls(url='http://www.nexusmods.com/skyrim/mods/categories/?'):\n",
    "\n",
    "    #get categories page\n",
    "    main_page = requests.get(url)\n",
    "    main_soup = BeautifulSoup(main_page.text, 'html')\n",
    "\n",
    "    #get category urls from categories page\n",
    "    #they will be the initialized stack for the webcrawler\n",
    "    cat_list = main_soup.find('ul', class_=\"category-list\")\n",
    "    cat_urls = []\n",
    "    for link in cat_list.find_all('a', href=True):\n",
    "        cat_urls.append(link['href'])\n",
    "    \n",
    "    #remove the top element, it is a site statistic href\n",
    "    cat_urls.pop()\n",
    "    return cat_urls"
   ]
  },
  {
   "cell_type": "code",
   "execution_count": null,
   "metadata": {
    "collapsed": false
   },
   "outputs": [],
   "source": [
    "#demo for get_nexus_cat_urls\n",
    "cat_urls = get_nexus_cat_urls()\n",
    "for link in sorted(cat_urls):\n",
    "    print (link)"
   ]
  },
  {
   "cell_type": "markdown",
   "metadata": {},
   "source": [
    "<p><h1 style=\"font-size:12px\">In the cells below, need to define:</h1><br>\n",
    "   1) a class for holding statistics about each mod <br>\n",
    "   2) function for getting those statistics using cat_urls <br>\n",
    "   3) function for exploring each mod's particular page <br>\n",
    "</p>"
   ]
  },
  {
   "cell_type": "code",
   "execution_count": 12,
   "metadata": {
    "collapsed": false
   },
   "outputs": [],
   "source": [
    "#read some url pages, study what else can be added\n",
    "\n",
    "#container class for information on mod\n",
    "class ModBlock:\n",
    "    def __init__(self):\n",
    "        self.url = ''\n",
    "        self.likes = 0\n",
    "        self.downloads = 0\n",
    "        self.name = ''\n",
    "        self.des = ''\n",
    "        self.created = ''\n",
    "        self.update = ''\n",
    "        self.creator= ''\n",
    "    def print_mod(self):\n",
    "        print('{0}: {1}'.format('url', self.url))\n",
    "        print('{0}: {1}'.format('likes', self.likes))\n",
    "        print('{0}: {1}'.format('downloads', self.downloads))\n",
    "        print('{0}: {1}'.format('name', self.name))\n",
    "        print('{0}: {1}'.format('description', self.des))\n",
    "        print('{0}: {1}'.format('created', self.created))\n",
    "        print('{0}: {1}'.format('updated', self.update))\n",
    "        print('{0}: {1}'.format('created by', self.creator))"
   ]
  },
  {
   "cell_type": "code",
   "execution_count": 6,
   "metadata": {
    "collapsed": true
   },
   "outputs": [],
   "source": [
    "#gets a list of the nexus mods at url\n",
    "#currently just gets the html. \n",
    "#change this to put things into a class\n",
    "def get_nexus_mods(url):\n",
    "    page = requests.get(url)\n",
    "    soup = BeautifulSoup(page.text, 'html')\n",
    "    \n",
    "    blockList = soup.find('ul', class_=\"block-list\")\n",
    "    popboxes = blockList.find_all('li', class_='popbox')\n",
    "    \n",
    "    return popboxes"
   ]
  },
  {
   "cell_type": "code",
   "execution_count": null,
   "metadata": {
    "collapsed": false
   },
   "outputs": [],
   "source": [
    "#demo of get_nexus_mods\n",
    "cat_urls = get_nexus_cat_urls()\n",
    "mods = get_nexus_mods(cat_urls[0])\n",
    "\n",
    "print(mods[0])"
   ]
  },
  {
   "cell_type": "code",
   "execution_count": null,
   "metadata": {
    "collapsed": true
   },
   "outputs": [],
   "source": []
  }
 ],
 "metadata": {
  "kernelspec": {
   "display_name": "Python 3",
   "language": "python",
   "name": "python3"
  },
  "language_info": {
   "codemirror_mode": {
    "name": "ipython",
    "version": 3
   },
   "file_extension": ".py",
   "mimetype": "text/x-python",
   "name": "python",
   "nbconvert_exporter": "python",
   "pygments_lexer": "ipython3",
   "version": "3.4.0"
  }
 },
 "nbformat": 4,
 "nbformat_minor": 0
}
