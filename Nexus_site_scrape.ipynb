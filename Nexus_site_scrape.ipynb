{
 "cells": [
  {
   "cell_type": "markdown",
   "metadata": {},
   "source": [
    "<h1 style = \"font-size:25px\">Nexus site scraping</h1>\n",
    "<h2 style=\"font-size:15px\">  Author: Jacob Massengill, et. al. (add your name if you edit this)</h2>\n",
    "\n",
    "<p>This notebook defines classes and functions that will be used to scrape the Nexus skyrim site\n",
    "</p>"
   ]
  },
  {
   "cell_type": "code",
   "execution_count": 24,
   "metadata": {
    "collapsed": false
   },
   "outputs": [],
   "source": [
    "#define a timer which will be used to \n",
    "#regulate the speed at which pages will be\n",
    "#retrieved\n",
    "\n",
    "#pages retrieved/sec = (1/self.mtime)\n",
    "import time\n",
    "class StopWatch:\n",
    "    def __init__(self, time):\n",
    "        self.mtime = time\n",
    "    def start(self):\n",
    "        ctime = time.time()+self.mtime\n",
    "        while(ctime > time.time()):\n",
    "            pass"
   ]
  },
  {
   "cell_type": "code",
   "execution_count": 25,
   "metadata": {
    "collapsed": false
   },
   "outputs": [
    {
     "name": "stdout",
     "output_type": "stream",
     "text": [
      "10 9 8 7 6 5 4 3 2 1 "
     ]
    }
   ],
   "source": [
    "#demo of stop_watch\n",
    "timer = StopWatch(1)\n",
    "for i in reversed(range(10)):\n",
    "    timer.start()\n",
    "    print (i+1, end=\" \")"
   ]
  },
  {
   "cell_type": "code",
   "execution_count": 68,
   "metadata": {
    "collapsed": false
   },
   "outputs": [],
   "source": [
    "#container class for information on mod\n",
    "class ModBlock:\n",
    "    def __init__(self,html=None):\n",
    "        if html != None:\n",
    "            self.from_html(html)\n",
    "    def print_mod(self):\n",
    "        print('{0}: {1}'.format('url', self.url))\n",
    "        print('{0}: {1}'.format('likes', self.likes))\n",
    "        print('{0}: {1}'.format('downloads', self.downloads))\n",
    "        print('{0}: {1}'.format('name', self.name))\n",
    "        print('{0}: {1}'.format('description', self.des))\n",
    "        print('{0}: {1}'.format('created', self.created))\n",
    "        print('{0}: {1}'.format('updated', self.update))\n",
    "        print('{0}: {1}'.format('created by', self.creator))\n",
    "    #should be an entry from get_nexus_mods\n",
    "    def from_html(self, html):\n",
    "        self.url = html.find('a', class_='image bubble-open pb-hover pb-left pb-ajax pb-forceclose', href=True)['href']\n",
    "        self.likes = html.find('span', class_='likes').text\n",
    "        self.downloads = html.find('span', class_='downloads').text\n",
    "        self.name = html.find('a', class_='title').text\n",
    "        self.des = html.find('div', class_=None).text\n",
    "        self.created = html.find('div', class_='category-file-hover-released').text\n",
    "        self.update = html.find('div', class_='category-file-hover-updated').text\n",
    "        self.creator = html.find('a', class_='user').text\n",
    "    #len(mlist) = 8\n",
    "    def from_list(self, mlist):\n",
    "        self.url = mlist[0]\n",
    "        self.likes = mlist[1]\n",
    "        self.downloads = mlist[2]\n",
    "        self.name = mlist[3]\n",
    "        self.des = mlist[4]\n",
    "        self.created = mlist[5]\n",
    "        self.update = mlist[6]\n",
    "        self.creator = mlist[7]\n",
    "    def get_id(self):\n",
    "        id = [s for s in self.url.split('/') if s.isdigit()]\n",
    "        return id[0]\n",
    "    def to_list(self):\n",
    "        data = [self.url, self.likes, self.downloads, self.name, '\\''+self.des+'\\'', self.created, self.update, self.creator]\n",
    "        return data"
   ]
  },
  {
   "cell_type": "code",
   "execution_count": 27,
   "metadata": {
    "collapsed": true
   },
   "outputs": [],
   "source": [
    "import requests\n",
    "from bs4 import BeautifulSoup\n",
    "#gets a list of the nexus mods at url\n",
    "#currently just gets the html. \n",
    "#change this to put things into a class\n",
    "def get_nexus_mods(url):\n",
    "    page = requests.get(url)\n",
    "    \n",
    "    if page.status_code != 200:\n",
    "        print('bad error code')\n",
    "        return None\n",
    "    \n",
    "    soup = BeautifulSoup(page.text, 'html')\n",
    "\n",
    "    blockList = soup.find('ul', class_=\"block-list\")\n",
    "    popboxes = blockList.find_all('li', class_='popbox')\n",
    "    \n",
    "    return popboxes"
   ]
  },
  {
   "cell_type": "code",
   "execution_count": 30,
   "metadata": {
    "collapsed": false
   },
   "outputs": [],
   "source": [
    "#returns a list of modblocks from pages start to end (inclusive)\n",
    "#grabs pages at a rate of rr/sec\n",
    "#both start and end should be a positive integer, start < end\n",
    "#verbose decides whether to print status or not\n",
    "def get_nexus_mods_from_pages(start = 1, end = 1, rr = 1, verbose=False):\n",
    "    timer = StopWatch(rr)\n",
    "    mods = []\n",
    "    for i in range(start, end+1):\n",
    "        if verbose:\n",
    "            print('\\rgetting page {0}/{1}'.format(i,end), end=' ')\n",
    "\n",
    "        timer.start()\n",
    "        url = 'http://www.nexusmods.com/skyrim/mods/searchresults/?src_order=3&src_sort=0&src_view=1&src_tab=1&src_language=0&page='+str(i)+'&pUp=1'\n",
    "        \n",
    "        modList = get_nexus_mods(url)\n",
    "        if modList == None:\n",
    "            print('no mods on page {0}\\nare you sure you\\'re in range?'.format(url))\n",
    "        for e in modList:\n",
    "            mods.append(ModBlock(e))\n",
    "    if verbose:\n",
    "        print('\\ndone')\n",
    "    return mods"
   ]
  },
  {
   "cell_type": "code",
   "execution_count": 69,
   "metadata": {
    "collapsed": false
   },
   "outputs": [
    {
     "name": "stdout",
     "output_type": "stream",
     "text": [
      "getting page 3/3 \n",
      "done\n"
     ]
    }
   ],
   "source": [
    "#get all mods from skyrim site demo\n",
    "mods = get_nexus_mods_from_pages(end=3, verbose=True)"
   ]
  },
  {
   "cell_type": "code",
   "execution_count": 70,
   "metadata": {
    "collapsed": false
   },
   "outputs": [
    {
     "name": "stdout",
     "output_type": "stream",
     "text": [
      "url: http://www.nexusmods.com/skyrim/mods/607/\n",
      "likes: 131,006\n",
      "downloads: 17,062,541\n",
      "name: Skyrim HD - 2K Texture...\n",
      "description: \n",
      "\t\t\t\t\t\tThe most downloaded high resolution texture mod for skyrim.\t\t\t\t\t\t\n",
      "created: Released: 19/11/2011 - 01:03AM\n",
      "updated: Updated: 04/10/2015 - 12:49PM\n",
      "created by: NebuLa1\n"
     ]
    }
   ],
   "source": [
    "mods[0].print_mod()"
   ]
  },
  {
   "cell_type": "code",
   "execution_count": 63,
   "metadata": {
    "collapsed": false
   },
   "outputs": [],
   "source": [
    "import json, os\n",
    "\n",
    "#mlist is a list of ModBlocks.\n",
    "#This function writes mlist to a text file\n",
    "def modblock_to_json(mlist=[], name = 'mods.json', mode='w'):\n",
    "    jall = {}\n",
    "    for mod in mlist:\n",
    "        jall.update({mod.get_id(): mod.to_list()})\n",
    "        \n",
    "    data = {}\n",
    "    if mode == 'a':\n",
    "        if os.path.isfile(name):\n",
    "            data = json_to_modblock(name)\n",
    "            for mod in data:\n",
    "                jall.update({mod.get_id(): mod.to_list()})\n",
    "        \n",
    "    with open(name, mode) as outfile:\n",
    "        json.dump(jall, outfile)"
   ]
  },
  {
   "cell_type": "code",
   "execution_count": 57,
   "metadata": {
    "collapsed": true
   },
   "outputs": [],
   "source": [
    "import json\n",
    "\n",
    "#returns a list of modblocks generated from name\n",
    "def json_to_modblock(name='mods.json'):\n",
    "    with open(name, 'r') as infile:\n",
    "        jall = json.loads(infile.read())\n",
    "    \n",
    "    jmods = []\n",
    "    for mod in jall.values():\n",
    "        modblock = ModBlock()\n",
    "        modblock.from_list(mod)\n",
    "        jmods.append(modblock)\n",
    "    return jmods"
   ]
  },
  {
   "cell_type": "markdown",
   "metadata": {
    "collapsed": true
   },
   "source": [
    "<h1 style=\"color: red; font-size: 60px;\">Don't run<h1>\n",
    "<p style=\"font-size: 16px\">it should be run once to grab every mod on the skyrim site, but that is it.\n",
    "   use it to base further site grabs.<br>\n",
    "   instead, load lists using the json files</p>"
   ]
  },
  {
   "cell_type": "code",
   "execution_count": null,
   "metadata": {
    "collapsed": false
   },
   "outputs": [],
   "source": [
    "#get all the mods from the skyrim site\n",
    "#save them to json files\n",
    "for i in range(13):\n",
    "    allmods = get_nexus_mods_from_pages(start=100*(i)+1, end = 100*(i+1), verbose=True)\n",
    "    modblock_to_json(allmods, name=('skyrim_mods_'+str(i+1)+'.json'))\n",
    "        "
   ]
  },
  {
   "cell_type": "code",
   "execution_count": null,
   "metadata": {
    "collapsed": false
   },
   "outputs": [],
   "source": [
    "allmods = get_nexus_mods_from_pages(start=1301, end=1322, verbose=True)\n",
    "modblock_to_json(allmods, name='skyrim_mods_14.json')"
   ]
  },
  {
   "cell_type": "markdown",
   "metadata": {},
   "source": [
    "<p style=\"font-size: 24px\">the script below shows how to use the json files with modblocks</p>"
   ]
  },
  {
   "cell_type": "code",
   "execution_count": 110,
   "metadata": {
    "collapsed": false
   },
   "outputs": [
    {
     "data": {
      "text/plain": [
       "39654"
      ]
     },
     "execution_count": 110,
     "metadata": {},
     "output_type": "execute_result"
    }
   ],
   "source": [
    "modsj = json_to_modblock('skyrim_mods_all.json')\n",
    "modsj[1].url\n",
    "len(modsj)"
   ]
  }
 ],
 "metadata": {
  "kernelspec": {
   "display_name": "Python 3",
   "language": "python",
   "name": "python3"
  },
  "language_info": {
   "codemirror_mode": {
    "name": "ipython",
    "version": 3
   },
   "file_extension": ".py",
   "mimetype": "text/x-python",
   "name": "python",
   "nbconvert_exporter": "python",
   "pygments_lexer": "ipython3",
   "version": "3.4.0"
  }
 },
 "nbformat": 4,
 "nbformat_minor": 0
}
