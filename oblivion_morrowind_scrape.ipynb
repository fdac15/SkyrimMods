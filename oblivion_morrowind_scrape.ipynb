{
 "cells": [
  {
   "cell_type": "code",
   "execution_count": 1,
   "metadata": {
    "collapsed": true
   },
   "outputs": [],
   "source": [
    "import NexusScraper\n"
   ]
  },
  {
   "cell_type": "code",
   "execution_count": null,
   "metadata": {
    "collapsed": false
   },
   "outputs": [
    {
     "name": "stdout",
     "output_type": "stream",
     "text": [
      "getting page 36/880"
     ]
    }
   ],
   "source": [
    "oblivionMods = NexusScraper.get_nexus_mods_from_pages(site='oblivion', verbose=True, rr=0.1,start=1,end=880)"
   ]
  },
  {
   "cell_type": "code",
   "execution_count": null,
   "metadata": {
    "collapsed": false
   },
   "outputs": [],
   "source": [
    "NexusScraper.modblock_to_json(oblivionMods, name='oblivion_mods_all.json')"
   ]
  },
  {
   "cell_type": "code",
   "execution_count": null,
   "metadata": {
    "collapsed": true
   },
   "outputs": [],
   "source": [
    "morrowindMods = NexusScraper.get_nexus_mods_from_pages(site='morrowind', verbose=True, rr=0.1,start=1,end=119)"
   ]
  },
  {
   "cell_type": "code",
   "execution_count": null,
   "metadata": {
    "collapsed": true
   },
   "outputs": [],
   "source": [
    "NexusScraper.modblock_to_json(morrowindMods, name='morrowind_mods_all.json')"
   ]
  },
  {
   "cell_type": "code",
   "execution_count": null,
   "metadata": {
    "collapsed": false
   },
   "outputs": [],
   "source": [
    "oblivionMods[0].print_mod()"
   ]
  },
  {
   "cell_type": "code",
   "execution_count": 5,
   "metadata": {
    "collapsed": false
   },
   "outputs": [
    {
     "name": "stdout",
     "output_type": "stream",
     "text": [
      "26390\n",
      "url: http://www.nexusmods.com/oblivion/mods/31532/\n",
      "likes: 7\n",
      "downloads: 144\n",
      "name: Lighter Lootable Armors\n",
      "description: '\n",
      "\t\t\t\t\t\tAll armor is 50% lighter.\n",
      "\n",
      "Lootable Captain Renault Armor.\n",
      "The Blades still take it at the end of the totorial.\n",
      "\n",
      "Lootable Dremora Armor.\n",
      "The pieces that you normaly could not loot from the Daedra.\n",
      "\t\t\t\t\t\t'\n",
      "created: Released: 06/05/2010 - 06:14PM\n",
      "updated: Updated: 09/05/2010 - 08:20PM\n",
      "created by: epbreen\n"
     ]
    }
   ],
   "source": [
    "oblivionMods = NexusScraper.json_to_modblock('oblivion_mods_all.json')\n",
    "print(len(oblivionMods))\n",
    "oblivionMods[0].print_mod()"
   ]
  },
  {
   "cell_type": "code",
   "execution_count": 6,
   "metadata": {
    "collapsed": false
   },
   "outputs": [
    {
     "name": "stdout",
     "output_type": "stream",
     "text": [
      "3549\n",
      "url: http://www.nexusmods.com/morrowind/mods/11902/\n",
      "likes: 42\n",
      "downloads: 1,238\n",
      "name: Better armor rev2 Dwemeric\n",
      "description: '\n",
      "\t\t\t\t\t\tThe Elder Scrolls III\n",
      "    Morrowind:\n",
      "\"BETTER ARMOR\"\n",
      "(rev2 Dwemeric)\n",
      "** WHAT'S IT ALL ABOUT? ****\n",
      "It`s Actually replacer Dwemeric armors. BumpMap, glowMap and other map effects are added. )) - this much beautifully\n",
      "***REQUIRED*******\n",
      "Morrowind onlu.\t\t\t\t\t\t'\n",
      "created: Released: 02/07/2007 - 06:12PM\n",
      "updated: Updated: 26/09/2007 - 08:12PM\n",
      "created by: HedgeHog12\n"
     ]
    }
   ],
   "source": [
    "morrowindMods = NexusScraper.json_to_modblock('morrowind_mods_all.json')\n",
    "print(len(morrowindMods))\n",
    "morrowindMods[0].print_mod()"
   ]
  },
  {
   "cell_type": "code",
   "execution_count": null,
   "metadata": {
    "collapsed": true
   },
   "outputs": [],
   "source": []
  }
 ],
 "metadata": {
  "kernelspec": {
   "display_name": "Python 3",
   "language": "python",
   "name": "python3"
  },
  "language_info": {
   "codemirror_mode": {
    "name": "ipython",
    "version": 3
   },
   "file_extension": ".py",
   "mimetype": "text/x-python",
   "name": "python",
   "nbconvert_exporter": "python",
   "pygments_lexer": "ipython3",
   "version": "3.4.0"
  }
 },
 "nbformat": 4,
 "nbformat_minor": 0
}
