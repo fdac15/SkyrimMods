{
 "cells": [
  {
   "cell_type": "code",
   "execution_count": 23,
   "metadata": {
    "collapsed": true
   },
   "outputs": [],
   "source": [
    "import NexusScraper"
   ]
  },
  {
   "cell_type": "code",
   "execution_count": 24,
   "metadata": {
    "collapsed": false
   },
   "outputs": [],
   "source": [
    "#get list of target words\n",
    "targetWords = []\n",
    "with open('target_words.txt','r') as file:\n",
    "    for line in file:\n",
    "        line = line.replace(\"\\n\",'')\n",
    "        targetWords.append(line)"
   ]
  },
  {
   "cell_type": "code",
   "execution_count": 25,
   "metadata": {
    "collapsed": false
   },
   "outputs": [],
   "source": [
    "mods = NexusScraper.json_to_modblock('../skyrim_data/skyrim_mods_all.json')"
   ]
  },
  {
   "cell_type": "code",
   "execution_count": 26,
   "metadata": {
    "collapsed": false
   },
   "outputs": [],
   "source": [
    "#get descriptions and unique downloads from mods\n",
    "descriptions = {mod.get_id() : [mod.des, mod.udownloads] for mod in mods}"
   ]
  },
  {
   "cell_type": "code",
   "execution_count": 45,
   "metadata": {
    "collapsed": false
   },
   "outputs": [],
   "source": [
    "#get all mods whose description contains a word from targetwords\n",
    "targeted = [mod.get_id() for mod in mods for word in mod.des.split(' ') if word in targetWords ]"
   ]
  },
  {
   "cell_type": "code",
   "execution_count": 50,
   "metadata": {
    "collapsed": false
   },
   "outputs": [
    {
     "name": "stdout",
     "output_type": "stream",
     "text": [
      "[\"''''\\n\\t\\t\\t\\t\\t\\tRetexture of spellbreaker following colour scheme from the oblivion version\\nbased on HD texture pack.\\nIncreased resolutoin of specular map.\\n\\nyes im an oblivion fan!!\\t\\t\\t\\t\\t\\t''''\", '1,331']\n"
     ]
    }
   ],
   "source": [
    "print(descriptions[targeted[1]])"
   ]
  },
  {
   "cell_type": "code",
   "execution_count": 28,
   "metadata": {
    "collapsed": false
   },
   "outputs": [
    {
     "name": "stdout",
     "output_type": "stream",
     "text": [
      "59\n"
     ]
    }
   ],
   "source": [
    "print(len(targeted))"
   ]
  },
  {
   "cell_type": "code",
   "execution_count": null,
   "metadata": {
    "collapsed": true
   },
   "outputs": [],
   "source": []
  }
 ],
 "metadata": {
  "kernelspec": {
   "display_name": "Python 3",
   "language": "python",
   "name": "python3"
  },
  "language_info": {
   "codemirror_mode": {
    "name": "ipython",
    "version": 3
   },
   "file_extension": ".py",
   "mimetype": "text/x-python",
   "name": "python",
   "nbconvert_exporter": "python",
   "pygments_lexer": "ipython3",
   "version": "3.4.0"
  }
 },
 "nbformat": 4,
 "nbformat_minor": 0
}
