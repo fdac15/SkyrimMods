{
 "cells": [
  {
   "cell_type": "code",
   "execution_count": 4,
   "metadata": {
    "collapsed": true
   },
   "outputs": [],
   "source": [
    "import NexusScraper"
   ]
  },
  {
   "cell_type": "code",
   "execution_count": 5,
   "metadata": {
    "collapsed": false
   },
   "outputs": [],
   "source": [
    "#get list of target words\n",
    "targetWords = []\n",
    "with open('target_words.txt','r') as file:\n",
    "    for line in file:\n",
    "        line = line.replace(\"\\n\",'')\n",
    "        targetWords.append(line)"
   ]
  },
  {
   "cell_type": "code",
   "execution_count": 6,
   "metadata": {
    "collapsed": false
   },
   "outputs": [],
   "source": [
    "mods = NexusScraper.json_to_modblock('../skyrim_data/skyrim_mods_all.json')"
   ]
  },
  {
   "cell_type": "code",
   "execution_count": 7,
   "metadata": {
    "collapsed": false
   },
   "outputs": [],
   "source": [
    "#get all mods whose description contains a word from targetwords\n",
    "targeted = {mod.get_id(): [[word],mod.udownloads] for mod in mods for word in mod.des.split(' ') if word.lower() in targetWords }"
   ]
  },
  {
   "cell_type": "code",
   "execution_count": null,
   "metadata": {
    "collapsed": false
   },
   "outputs": [],
   "source": [
    "for key in targeted.keys():\n",
    "    print(key, end = ' ')\n",
    "    print(targeted[key][0], end=' ')\n",
    "    print(targeted[key][1])"
   ]
  },
  {
   "cell_type": "code",
   "execution_count": 70,
   "metadata": {
    "collapsed": false
   },
   "outputs": [
    {
     "name": "stdout",
     "output_type": "stream",
     "text": [
      "0.7411315445683853\n"
     ]
    }
   ],
   "source": [
    "#percentage of mods which are targeted here.\n",
    "print((1-(len(mods)-len(targeted))/len(mods))*100)"
   ]
  },
  {
   "cell_type": "code",
   "execution_count": 9,
   "metadata": {
    "collapsed": false
   },
   "outputs": [],
   "source": [
    "#get total popularity of a word across all words in mod descriptions. \n",
    "from nltk.tokenize import word_tokenize\n",
    "import locale\n",
    "\n",
    "locale.setlocale(locale.LC_ALL, 'en_US.UTF-8')\n",
    "\n",
    "wordCount = {}\n",
    "tokens = []\n",
    "    \n",
    "stopwords = [\"'\",\"''\",'\"','the','and',',','.','to','a','for','of','in','is','you','with','This','!','?','that','A','(',')',\n",
    "              'from','it','I',\"'s\",'by','you','your',\"you're\",':','on','as','The','can','-','this','be','are','or',\n",
    "              'will','have',\"``\",'an','my','at','so','not','but','into','some','...','just','It','--','them','also',\n",
    "              'has',\"n't\",'which','Which','do','de','only','i','who','what','when','where','why',\n",
    "              'if','was','&','You',']','[','their','they','http','/','\\\\',';','@','#','$','%','^','*','~','{','}','|',\n",
    "              '+','=','<','>','he','she','his','her','hers','to','too','him',\"'v\",\"'re\",\"'d\"]\n",
    "for mod in mods:\n",
    "    if mod.udownloads == '':\n",
    "        mod.udownloads = mod.downloads\n",
    "    tokens = set(word_tokenize(mod.des.lower()))\n",
    "\n",
    "    for token in tokens:\n",
    "        if token in stopwords:\n",
    "             continue\n",
    "        if token in wordCount:\n",
    "            wordCount[token][0]+=1\n",
    "            wordCount[token][1]+=locale.atoi(mod.udownloads)\n",
    "        else:\n",
    "            wordCount.update({token:[1,locale.atoi(mod.udownloads)]})\n",
    "                \n",
    "stuff = list(wordCount.items())\n",
    "sortedWordCount = sorted(stuff, key=lambda e: e[1][0])\n",
    "sortedWordCount.reverse()\n"
   ]
  },
  {
   "cell_type": "code",
   "execution_count": null,
   "metadata": {
    "collapsed": false
   },
   "outputs": [],
   "source": [
    "for word in sortedWordCount:\n",
    "    print(word[0])\n",
    "    print(word[1][1]/word[1][0])"
   ]
  },
  {
   "cell_type": "code",
   "execution_count": 10,
   "metadata": {
    "collapsed": false
   },
   "outputs": [],
   "source": [
    "#sort most used words by how popular they are\n",
    "mostPopularWordsNorm = sorted(sortedWordCount, key = lambda word: word[1][1]/word[1][0])\n",
    "mostPopularWordsNorm.reverse()"
   ]
  },
  {
   "cell_type": "markdown",
   "metadata": {},
   "source": [
    "<p>notice how the normalized popular words have almost no relationship to the most used words!</p>\n",
    "<p>is this an error or is it significant?</p>\n",
    "<p>might want to make all this csv friendly and run an R script on this to see how they relate exactly</p>"
   ]
  },
  {
   "cell_type": "code",
   "execution_count": null,
   "metadata": {
    "collapsed": false
   },
   "outputs": [],
   "source": [
    "for word in mostPopularWordsNorm:\n",
    "    print(word)"
   ]
  },
  {
   "cell_type": "code",
   "execution_count": 11,
   "metadata": {
    "collapsed": false
   },
   "outputs": [],
   "source": [
    "import locale\n",
    "\n",
    "locale.setlocale(locale.LC_ALL, 'en_US.UTF-8')\n",
    "\n",
    "targetWordCounter = {}\n",
    "for mod in targeted.keys():\n",
    "    for word in targeted[mod][0]:\n",
    "        if word.lower() in targetWordCounter:\n",
    "            targetWordCounter[word.lower()][0]+=1\n",
    "            targetWordCounter[word.lower()][1]+=locale.atoi(targeted[mod][1])\n",
    "        else:\n",
    "            targetWordCounter.update({word.lower():[1,locale.atoi(targeted[mod][1])]})"
   ]
  },
  {
   "cell_type": "code",
   "execution_count": 12,
   "metadata": {
    "collapsed": false
   },
   "outputs": [
    {
     "data": {
      "text/plain": [
       "{'cyrodiil': [6, 8187],\n",
       " 'morrowind': [99, 360092],\n",
       " 'oblivion': [163, 1079166],\n",
       " 'reborn': [11, 683550],\n",
       " 'restored': [6, 5528],\n",
       " 'returned': [10, 15882]}"
      ]
     },
     "execution_count": 12,
     "metadata": {},
     "output_type": "execute_result"
    }
   ],
   "source": [
    "targetWordCounter"
   ]
  },
  {
   "cell_type": "code",
   "execution_count": 13,
   "metadata": {
    "collapsed": false
   },
   "outputs": [
    {
     "name": "stdout",
     "output_type": "stream",
     "text": [
      "all data normalized\n",
      "targeted average popularity =  12712.1476\n",
      "total average popularity =  11722.8187\n",
      "percentage difference targeted/random =  8.4393%\n"
     ]
    }
   ],
   "source": [
    "#see which group is statistically more popular, targetted words or any random word\n",
    "targetWordAvg=0;\n",
    "for word in targetWordCounter.keys():\n",
    "    targetWordAvg += targetWordCounter[word][1]/targetWordCounter[word][0]\n",
    "\n",
    "everyWordAvg=0;\n",
    "for word in mostPopularWordsNorm:\n",
    "    everyWordAvg += word[1][1]/word[1][0]\n",
    "\n",
    "targetWordAvg = targetWordAvg/len(targetWordCounter.keys())\n",
    "everyWordAvg = everyWordAvg/len(mostPopularWordsNorm)\n",
    "\n",
    "print('all data normalized')\n",
    "print('targeted average popularity = {0: .4f}'.format(targetWordAvg))\n",
    "print('total average popularity = {0: .4f}'.format(everyWordAvg))\n",
    "print('percentage difference targeted/random = {0: 0.4f}%'.format((targetWordAvg/everyWordAvg - 1 )*100))"
   ]
  },
  {
   "cell_type": "markdown",
   "metadata": {},
   "source": [
    "<p>targeted words are only slightly more popular on average than a given random word. may be missing something</p>"
   ]
  },
  {
   "cell_type": "code",
   "execution_count": 74,
   "metadata": {
    "collapsed": false
   },
   "outputs": [
    {
     "data": {
      "text/plain": [
       "<matplotlib.text.Text at 0x7f0957ff0518>"
      ]
     },
     "execution_count": 74,
     "metadata": {},
     "output_type": "execute_result"
    },
    {
     "data": {
      "image/png": "[encoded data removed]",
      "text/plain": [
       "<matplotlib.figure.Figure at 0x7f095857ba90>"
      ]
     },
     "metadata": {},
     "output_type": "display_data"
    }
   ],
   "source": [
    "import numpy as np\n",
    "import matplotlib.pyplot as plt\n",
    "%matplotlib inline\n",
    "\n",
    "word = [0.4,1.4]\n",
    "labels = ['total mods', 'targeted mods']\n",
    "\n",
    "plt.bar(0, len(mostPopularWordsNorm))\n",
    "plt.bar(1, len(targeted), color='g')\n",
    "\n",
    "plt.xticks(word, labels)\n",
    "plt.ylabel('number of mods')\n",
    "\n",
    "plt.title('all mods vs target mods')"
   ]
  },
  {
   "cell_type": "code",
   "execution_count": 72,
   "metadata": {
    "collapsed": false
   },
   "outputs": [
    {
     "data": {
      "text/plain": [
       "<matplotlib.text.Text at 0x7f0958081cc0>"
      ]
     },
     "execution_count": 72,
     "metadata": {},
     "output_type": "execute_result"
    },
    {
     "data": {
      "image/png": "[encoded data removed]",
      "text/plain": [
       "<matplotlib.figure.Figure at 0x7f09588f0f98>"
      ]
     },
     "metadata": {},
     "output_type": "display_data"
    }
   ],
   "source": [
    "import numpy as np\n",
    "import matplotlib.pyplot as plt\n",
    "%matplotlib inline\n",
    "\n",
    "word = [0.4,1.4]\n",
    "labels = ['all mods', 'targeted mods']\n",
    "\n",
    "plt.ylim(0,15000)\n",
    "\n",
    "plt.bar(0, everyWordAvg)\n",
    "plt.bar(1, targetWordAvg,color='g')\n",
    "\n",
    "plt.xticks(word, labels)\n",
    "plt.ylabel('unique downloads')\n",
    "plt.title('average popularity of all mods vs target mods')"
   ]
  },
  {
   "cell_type": "code",
   "execution_count": null,
   "metadata": {
    "collapsed": true
   },
   "outputs": [],
   "source": []
  }
 ],
 "metadata": {
  "kernelspec": {
   "display_name": "Python 3",
   "language": "python",
   "name": "python3"
  },
  "language_info": {
   "codemirror_mode": {
    "name": "ipython",
    "version": 3
   },
   "file_extension": ".py",
   "mimetype": "text/x-python",
   "name": "python",
   "nbconvert_exporter": "python",
   "pygments_lexer": "ipython3",
   "version": "3.4.0"
  }
 },
 "nbformat": 4,
 "nbformat_minor": 0
}
