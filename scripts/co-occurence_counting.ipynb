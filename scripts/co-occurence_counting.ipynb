{
 "cells": [
  {
   "cell_type": "markdown",
   "metadata": {},
   "source": [
    "<h1>co-ooccurence counting</h1>\n",
    "\n",
    "<p>this file is a test for getting cooccurences in a form that R can use</p>"
   ]
  },
  {
   "cell_type": "code",
   "execution_count": 9,
   "metadata": {
    "collapsed": true
   },
   "outputs": [],
   "source": [
    "import json, csv, sys\n",
    "from collections import Counter"
   ]
  },
  {
   "cell_type": "code",
   "execution_count": 2,
   "metadata": {
    "collapsed": false
   },
   "outputs": [],
   "source": [
    "file = '/home/jacob/cs445/SkyrimMods/dragon_age_data/da/taglist_da.json'"
   ]
  },
  {
   "cell_type": "code",
   "execution_count": 3,
   "metadata": {
    "collapsed": true
   },
   "outputs": [],
   "source": [
    "tags = json.load(open(file))"
   ]
  },
  {
   "cell_type": "code",
   "execution_count": 4,
   "metadata": {
    "collapsed": false
   },
   "outputs": [],
   "source": [
    "#get a count of every tag and every cooccuring tags\n",
    "\n",
    "cooccurence_counter = Counter()\n",
    "tag_counter = Counter()\n",
    "\n",
    "for v in tags.values():\n",
    "    tag_counter.update(v)\n",
    "    for i in range(len(v)):\n",
    "        for j in range(i+1, len(v)):\n",
    "            cooccurence_counter.update(((v[i],v[j]),))"
   ]
  },
  {
   "cell_type": "code",
   "execution_count": 5,
   "metadata": {
    "collapsed": false
   },
   "outputs": [],
   "source": [
    "#get the ratio of tags for their cooccurences\n",
    "\n",
    "ratio_counter = {}\n",
    "for tag in cooccurence_counter.keys():\n",
    "    ratio_counter[tag] = (tag_counter[tag[0]]/tag_counter[tag[1]])"
   ]
  },
  {
   "cell_type": "code",
   "execution_count": 6,
   "metadata": {
    "collapsed": false
   },
   "outputs": [],
   "source": [
    "#next three blocks write a csv file for each cooccurence\n",
    "\n",
    "header = ['tag_tuple', 'tag1_count','tag2_count', 'ratio']\n",
    "writer = csv.DictWriter(f=open('co-occurences_da.csv','w'), fieldnames=header)"
   ]
  },
  {
   "cell_type": "code",
   "execution_count": 7,
   "metadata": {
    "collapsed": true
   },
   "outputs": [],
   "source": [
    "writer.writeheader()"
   ]
  },
  {
   "cell_type": "code",
   "execution_count": 8,
   "metadata": {
    "collapsed": false
   },
   "outputs": [],
   "source": [
    "for tag in cooccurence_counter.keys():\n",
    "    writer.writerow({header[0]: tag,\n",
    "                 header[1]: tag_counter[tag[0]],\n",
    "                 header[2]: tag_counter[tag[1]],\n",
    "                 header[3]: ratio_counter[tag]})"
   ]
  }
 ],
 "metadata": {
  "kernelspec": {
   "display_name": "Python 3",
   "language": "python",
   "name": "python3"
  },
  "language_info": {
   "codemirror_mode": {
    "name": "ipython",
    "version": 3
   },
   "file_extension": ".py",
   "mimetype": "text/x-python",
   "name": "python",
   "nbconvert_exporter": "python",
   "pygments_lexer": "ipython3",
   "version": "3.5.1"
  }
 },
 "nbformat": 4,
 "nbformat_minor": 0
}
