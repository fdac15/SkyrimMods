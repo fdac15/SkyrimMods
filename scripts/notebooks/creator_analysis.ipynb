{
 "cells": [
  {
   "cell_type": "code",
   "execution_count": 3,
   "metadata": {
    "collapsed": true
   },
   "outputs": [],
   "source": [
    "import NexusScraper, locale\n",
    "import numpy as np"
   ]
  },
  {
   "cell_type": "code",
   "execution_count": 4,
   "metadata": {
    "collapsed": false
   },
   "outputs": [],
   "source": [
    "mods = NexusScraper.json_to_modblock('../skyrim_data/skyrim_mods_all.json')"
   ]
  },
  {
   "cell_type": "code",
   "execution_count": 5,
   "metadata": {
    "collapsed": false
   },
   "outputs": [],
   "source": [
    "#count number of creators\n",
    "creatorCounter = {}\n",
    "for mod in mods:\n",
    "    if mod.creator in creatorCounter:\n",
    "        creatorCounter[mod.creator]+=1\n",
    "    else:\n",
    "        creatorCounter.update({mod.creator: 1})"
   ]
  },
  {
   "cell_type": "code",
   "execution_count": 6,
   "metadata": {
    "collapsed": false
   },
   "outputs": [
    {
     "name": "stdout",
     "output_type": "stream",
     "text": [
      "16870\n",
      "39804\n",
      "2.359454653230587\n"
     ]
    }
   ],
   "source": [
    "print(len(creatorCounter.keys()))\n",
    "print(len(mods))\n",
    "print(len(mods)/len(creatorCounter.keys()))"
   ]
  },
  {
   "cell_type": "code",
   "execution_count": 9,
   "metadata": {
    "collapsed": false
   },
   "outputs": [],
   "source": [
    "#sort by who has mad the most mods\n",
    "most_created = list(creatorCounter.items())\n",
    "most_created.sort(key= lambda item : item[1])\n",
    "most_created.reverse()"
   ]
  },
  {
   "cell_type": "code",
   "execution_count": 10,
   "metadata": {
    "collapsed": false
   },
   "outputs": [
    {
     "data": {
      "text/plain": [
       "('Azarian', 186)"
      ]
     },
     "execution_count": 10,
     "metadata": {},
     "output_type": "execute_result"
    }
   ],
   "source": [
    "most_created[0]"
   ]
  },
  {
   "cell_type": "code",
   "execution_count": 31,
   "metadata": {
    "collapsed": false
   },
   "outputs": [
    {
     "name": "stdout",
     "output_type": "stream",
     "text": [
      "variance: 14.9201\n",
      "std deviation: 3.8627\n",
      "median: 1.0000\n",
      "mean: 2.3595\n"
     ]
    }
   ],
   "source": [
    "#some stats on creators as a whole\n",
    "nums = [count[1] for count in most_created]\n",
    "print('variance: {0:.4f}'.format(np.var(nums)))\n",
    "print('std deviation: {0:.4f}'.format(np.std(nums)))\n",
    "print('median: {0:.4f}'.format(np.median(nums)))\n",
    "print('mean: {0:.4f}'.format(np.mean(nums)))"
   ]
  },
  {
   "cell_type": "code",
   "execution_count": 37,
   "metadata": {
    "collapsed": false
   },
   "outputs": [],
   "source": [
    "#find popularity of all creators' mods\n",
    "locale.setlocale(locale.LC_ALL, 'en_US.UTF-8')\n",
    "creatorPopularity = {}\n",
    "for mod in mods:\n",
    "    if mod.udownloads == '':\n",
    "        mod.udownloads = '0'\n",
    "    if mod.creator in creatorPopularity:\n",
    "        creatorPopularity[mod.creator][0].append(mod.get_id())\n",
    "        creatorPopularity[mod.creator][1]+=locale.atoi(mod.udownloads)\n",
    "    else:\n",
    "        creatorPopularity.update({mod.creator: [[mod.get_id()], locale.atoi(mod.udownloads)]})"
   ]
  },
  {
   "cell_type": "code",
   "execution_count": 39,
   "metadata": {
    "collapsed": true
   },
   "outputs": [],
   "source": [
    "popular_users = list(creatorPopularity.items())\n",
    "popular_users.sort(key= lambda item: item[1][1])\n",
    "popular_users.reverse()"
   ]
  },
  {
   "cell_type": "code",
   "execution_count": 40,
   "metadata": {
    "collapsed": false
   },
   "outputs": [
    {
     "name": "stdout",
     "output_type": "stream",
     "text": [
      "('Arthmoor', [['31083', '18465', '31255', '42754', '46693', '47327', '65502', '28235', '67305', '9557', '23491', '14178', '33393', '8058', '23906', '19', '16084', '70395', '67181', '67479', '47712', '57665', '25127', '12254'], 15625006])\n"
     ]
    }
   ],
   "source": [
    "print(popular_users[0])"
   ]
  },
  {
   "cell_type": "code",
   "execution_count": 42,
   "metadata": {
    "collapsed": true
   },
   "outputs": [],
   "source": [
    "#find creator with highest average popularity\n",
    "#per mod they created\n",
    "normal_avg_pop = []\n",
    "for user in popular_users:\n",
    "    normal_avg_pop.append([user[0], user[1][1]/len(user[1][0])])\n",
    "normal_avg_pop.sort(key=lambda user: user[1])\n",
    "normal_avg_pop.reverse()"
   ]
  },
  {
   "cell_type": "code",
   "execution_count": 43,
   "metadata": {
    "collapsed": false
   },
   "outputs": [
    {
     "name": "stdout",
     "output_type": "stream",
     "text": [
      "['NebuLa1', 8224648.0]\n"
     ]
    }
   ],
   "source": [
    "print(normal_avg_pop[0])"
   ]
  },
  {
   "cell_type": "code",
   "execution_count": null,
   "metadata": {
    "collapsed": true
   },
   "outputs": [],
   "source": []
  }
 ],
 "metadata": {
  "kernelspec": {
   "display_name": "Python 3",
   "language": "python",
   "name": "python3"
  },
  "language_info": {
   "codemirror_mode": {
    "name": "ipython",
    "version": 3
   },
   "file_extension": ".py",
   "mimetype": "text/x-python",
   "name": "python",
   "nbconvert_exporter": "python",
   "pygments_lexer": "ipython3",
   "version": "3.5.1"
  }
 },
 "nbformat": 4,
 "nbformat_minor": 0
}
