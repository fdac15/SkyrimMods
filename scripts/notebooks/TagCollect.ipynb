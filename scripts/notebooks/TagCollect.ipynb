{
 "cells": [
  {
   "cell_type": "markdown",
   "metadata": {},
   "source": [
    "#Test: Tags from a single page#"
   ]
  },
  {
   "cell_type": "code",
   "execution_count": 1,
   "metadata": {
    "collapsed": true
   },
   "outputs": [],
   "source": [
    "#define a timer which will be used to \n",
    "#regulate the speed at which pages will be\n",
    "#retrieved\n",
    "\n",
    "#pages retrieved/sec = (1/self.mtime)\n",
    "import time\n",
    "class StopWatch:\n",
    "    def __init__(self, time):\n",
    "        self.mtime = time\n",
    "    def start(self):\n",
    "        ctime = time.time()+self.mtime\n",
    "        while(ctime > time.time()):\n",
    "            pass"
   ]
  },
  {
   "cell_type": "code",
   "execution_count": 2,
   "metadata": {
    "collapsed": false
   },
   "outputs": [],
   "source": [
    "import json\n",
    "with open('morrowind_mods_all.json','r') as jfile:\n",
    "    mod_json = json.loads(jfile.read())\n",
    "    "
   ]
  },
  {
   "cell_type": "code",
   "execution_count": null,
   "metadata": {
    "collapsed": false
   },
   "outputs": [],
   "source": [
    "import requests\n",
    "from bs4 import BeautifulSoup \n",
    "\n",
    "\n",
    "\n",
    "#sample mod json:\n",
    "#mod_json = {\"607\": [\"http://www.nexusmods.com/skyrim/mods/607/\", \"2,957\", \"61,334\", \"Main Menu Background R...\", \"'\\n\\t\\t\\t\\t\\t\\tSimple main menu replacer with lore friendly graphic.\\t\\t\\t\\t\\t\\t'\", \"Released: 05/09/2013 - 11:54PM\", \"Updated: 21/07/2015 - 01:27PM\", \"LukeFG\"]}\n",
    "\n",
    "mod_tag = {}\n",
    "\n",
    "timer = StopWatch(.1)\n",
    "\n",
    "for key in mod_json:\n",
    "    url = 'http://www.nexusmods.com/morrowind/ajax/modtags/?id='+str(key)+'&pUp=1&gid=110'\n",
    "    timer.start()\n",
    "    \n",
    "    page = requests.get(url)\n",
    "    \n",
    "    if page.status_code != 200: print ('ERROR!!!')\n",
    "    \n",
    "    soup = BeautifulSoup(page.text, 'html5lib')\n",
    "    \n",
    "    worklist = soup.findAll(\"span\", class_=\"green\")\n",
    "    \n",
    "    i = 0\n",
    "    taglist = []\n",
    "    for ele in worklist:\n",
    "        s = BeautifulSoup(str(ele), 'html5lib')\n",
    "        \n",
    "        if i == 0: pass\n",
    "        elif (i%2) == 0:\n",
    "            taglist.append(s.text)\n",
    "        \n",
    "        i += 1\n",
    "\n",
    "    mod_tag [key] = taglist\n",
    "\n",
    "print(\"Done adding all tag\")\n",
    "\n",
    "json.dump(mod_tag, open('Morrowind_taglist','w'))\n",
    "print(\"Write file\")"
   ]
  },
  {
   "cell_type": "code",
   "execution_count": null,
   "metadata": {
    "collapsed": false
   },
   "outputs": [],
   "source": [
    "json.dump(mod_tag, open('Morrowind_taglist','w'))"
   ]
  },
  {
   "cell_type": "code",
   "execution_count": null,
   "metadata": {
    "collapsed": true
   },
   "outputs": [],
   "source": []
  }
 ],
 "metadata": {
  "kernelspec": {
   "display_name": "Python 3",
   "language": "python",
   "name": "python3"
  },
  "language_info": {
   "codemirror_mode": {
    "name": "ipython",
    "version": 3
   },
   "file_extension": ".py",
   "mimetype": "text/x-python",
   "name": "python",
   "nbconvert_exporter": "python",
   "pygments_lexer": "ipython3",
   "version": "3.4.0"
  }
 },
 "nbformat": 4,
 "nbformat_minor": 0
}
