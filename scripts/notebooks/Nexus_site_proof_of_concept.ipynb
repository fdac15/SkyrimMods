{
 "cells": [
  {
   "cell_type": "markdown",
   "metadata": {},
   "source": [
    "<h1>Proof of concept: Nexus site search</h1>"
   ]
  },
  {
   "cell_type": "markdown",
   "metadata": {},
   "source": [
    "<p>this is a proof of concept of how we can go about getting information from the nexus site.\n",
    "in a full fledged script, we would further parse each popbox for information, as well as\n",
    "explore the url of the mod for things like: general information, comments, lengthier about, etc. \n",
    "\n",
    "furthermore, we could obviously grab more than just the first page</p>\n",
    "\n",
    "<p>I would look at the nexus site (source) while reading this if some of the language seems confusing, I chose to keep in line with what they used</p>"
   ]
  },
  {
   "cell_type": "code",
   "execution_count": 6,
   "metadata": {
    "collapsed": false
   },
   "outputs": [],
   "source": [
    "import requests\n",
    "from bs4 import BeautifulSoup\n",
    "\n",
    "#first page of top downloaded mods on site across all games\n",
    "#note how the page can be incremented to get page 2, 3, ...\n",
    "#and how different search parameters can be made\n",
    "URL = \"http://www.nexusmods.com/games/mods/searchresults/?src_order=3&src_sort=0&src_view=1&src_tab=1&src_language=0&page=1&pUp=1\"\n",
    "page = requests.get(URL)\n",
    "\n",
    "#setting up page for parsing\n",
    "soup = BeautifulSoup(page.text, 'html')\n",
    "soup.prettify()\n",
    "\n",
    "#get the block of mods from the page\n",
    "blocklist = soup.find('ul', class_='block-list')\n",
    "\n",
    "#for this proof-of-concept, break block into list of mods\n",
    "popboxes = blocklist.find_all('li', class_='popbox')"
   ]
  },
  {
   "cell_type": "code",
   "execution_count": 7,
   "metadata": {
    "collapsed": false
   },
   "outputs": [
    {
     "name": "stdout",
     "output_type": "stream",
     "text": [
      "30\n"
     ]
    }
   ],
   "source": [
    "print(len(popboxes))"
   ]
  },
  {
   "cell_type": "code",
   "execution_count": 8,
   "metadata": {
    "collapsed": false
   },
   "outputs": [
    {
     "name": "stdout",
     "output_type": "stream",
     "text": [
      "<li class=\"popbox\">\n",
      "\t\t\t\t<a class=\"image bubble-open pb-hover pb-left pb-ajax pb-forceclose\" href=\"http://www.nexusmods.com/skyrim/mods/607/\">\n",
      "\t\t\t\t\t<p class=\"stats\">\n",
      "\t\t\t\t\t\t<span class=\"likes\">130,001</span>\n",
      "\t\t\t\t\t\t<span class=\"downloads\">17,032,904</span> \n",
      "\t\t\t\t\t</p>\n",
      "\t\t\t\t\t<span class=\"stats-overlay\">\n",
      "\t\t\t\t\t</span>\n",
      "\t\t\t\t\t<div class=\"image-overlay\" style=\"display: none;\">\n",
      "\t\t\t\t\t\t<p></p>\n",
      "\t\t\t\t\t</div>\n",
      "\t\t\t\t\t<center>\n",
      "\t\t\t\t\t\t<img alt=\"Skyrim HD - 2K Textures\" src=\"http://static-8.nexusmods.com/15/mods/110/images/thumbnails/607-1-1430764261.jpg\"/>\n",
      "\t\t\t\t\t</center>\n",
      "\t\t\t\t</a>\n",
      "\t\t\t\t<div class=\"bubble-collapse\">\n",
      "\t\t\t\t\t<div class=\"bubble-box category-file-hover-desc\" style=\"display: none; left: 192px; bottom: -56px; z-index:99;\">\n",
      "\t\t\t\t\t\t<div class=\"bubble-arrow arrowleft\" style=\"top: 94.5px;\"></div>\n",
      "\t\t\t\t\t\t<div class=\"bubble-arrow-border arrowleft-border\" style=\"top: 94.5px;\"></div>\n",
      "\t\t\t\t\t\t<div class=\"heading-wrap\">Skyrim HD - 2K Textures</div>\n",
      "\t\t\t\t\t\t<div>\n",
      "\t\t\t\t\t\tThe most downloaded high resolution texture mod for skyrim.\t\t\t\t\t\t</div>\n",
      "\t\t\t\t\t\t<div class=\"category-file-hover-released\">Released: 19/11/2011 - 01:03AM</div>\n",
      "\t\t\t\t\t\t<div class=\"category-file-hover-updated\">Updated: 04/10/2015 - 12:49PM</div>\t\t\n",
      "\t\t\t\t\t</div>\n",
      "\t\t\t\t</div>\n",
      "\t\t\t\n",
      "\t\t\t\t<a class=\"title\" href=\"http://www.nexusmods.com/skyrim/mods/607\" title=\"Skyrim HD - 2K Textures\">Skyrim HD - 2K Texture...</a><br/>\n",
      "\t\t\t\t<span class=\"user\">by</span> <a class=\"user\" href=\"http://www.nexusmods.com/games/users/3101794\">NebuLa1</a>\n",
      "\t\t\t\t\t\t\t\t\t\t<br/><span class=\"user\">for</span> <a class=\"user\" href=\"http://www.nexusmods.com/skyrim\">Skyrim</a>\n",
      "\t\t\t\t\t\t\t\t\t</li>\n"
     ]
    }
   ],
   "source": [
    "#popboxes can now be indexed to get basic info about mods including:\n",
    "#    likes, downloads, title, about, date of release, url link to mod, \n",
    "#    who posted it, and when it was last updated\n",
    "print(popboxes[0])"
   ]
  },
  {
   "cell_type": "code",
   "execution_count": null,
   "metadata": {
    "collapsed": true
   },
   "outputs": [],
   "source": []
  }
 ],
 "metadata": {
  "kernelspec": {
   "display_name": "Python 3",
   "language": "python",
   "name": "python3"
  },
  "language_info": {
   "codemirror_mode": {
    "name": "ipython",
    "version": 3
   },
   "file_extension": ".py",
   "mimetype": "text/x-python",
   "name": "python",
   "nbconvert_exporter": "python",
   "pygments_lexer": "ipython3",
   "version": "3.4.0"
  }
 },
 "nbformat": 4,
 "nbformat_minor": 0
}
